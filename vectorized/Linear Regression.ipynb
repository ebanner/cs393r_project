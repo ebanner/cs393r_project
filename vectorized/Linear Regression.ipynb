{
 "cells": [
  {
   "cell_type": "markdown",
   "metadata": {},
   "source": [
    "# Linear Regression Vectorized\n",
    "\n",
    "Vectorized Implementation of Linear Regression"
   ]
  },
  {
   "cell_type": "code",
   "execution_count": 45,
   "metadata": {
    "collapsed": false
   },
   "outputs": [],
   "source": [
    "from collections import namedtuple\n",
    "\n",
    "Model = namedtuple('Model', ['w', 'b', 'dW', 'db', 'y_hats', 'dlosses', 'dy_hats', 'loss'])\n",
    "\n",
    "class LinearRegression:\n",
    "    def __init__(self, X, ys, W=None, b=0.0, learning_rate=0.001):\n",
    "        # Initialize starting weights and biases\n",
    "        (M,) = X.shape\n",
    "        \n",
    "        self.X, self.ys = X.reshape(1,M), ys\n",
    "        self.learning_rate = learning_rate\n",
    "        \n",
    "        self.W = np.array([0.0]) if not W else W\n",
    "        self.b = 0.0\n",
    "        \n",
    "    def forward_backward_prop(self):\n",
    "        \"\"\"Perform forward and backward prop over all training examples\n",
    "        \n",
    "        Returns loss and gradients\n",
    "        \n",
    "        \"\"\"\n",
    "        # Forward Pass (predictions)\n",
    "        y_hats = self.W @ self.X + self.b\n",
    "\n",
    "        # Loss\n",
    "        losses = 0.5 * (y_hats-self.ys)**2\n",
    "        loss = sum(losses) / M\n",
    "\n",
    "        # Backpropagate to find dw and db\n",
    "        dlosses = np.ones_like(losses)\n",
    "        dy_hats = (y_hats-self.ys) * dlosses\n",
    "        db = sum(dy_hats)\n",
    "        dW = dy_hats @ self.X.T\n",
    "        \n",
    "        # Normalize by the number of training examples\n",
    "        db /= M\n",
    "        dW /= M\n",
    "        \n",
    "        return loss, dW, db\n",
    "    \n",
    "    def step(self):\n",
    "        \"\"\"Run one iteration of batch gradient descent\"\"\"\n",
    "        \n",
    "        loss, dW, db = self.forward_backward_prop()\n",
    "        \n",
    "        self.W -= self.learning_rate*dW\n",
    "        self.b -= self.learning_rate*db \n",
    "        \n",
    "        return self.W, self.b"
   ]
  },
  {
   "cell_type": "markdown",
   "metadata": {},
   "source": [
    "## Create Synthetic Data"
   ]
  },
  {
   "cell_type": "code",
   "execution_count": 57,
   "metadata": {
    "collapsed": false
   },
   "outputs": [
    {
     "data": {
      "text/plain": [
       "<matplotlib.axes._subplots.AxesSubplot at 0x7f3c945addd8>"
      ]
     },
     "execution_count": 57,
     "metadata": {},
     "output_type": "execute_result"
    },
    {
     "name": "stderr",
     "output_type": "stream",
     "text": [
      "/home/ebanner/.anaconda/envs/py35/lib/python3.5/site-packages/matplotlib/collections.py:590: FutureWarning: elementwise comparison failed; returning scalar instead, but in the future will perform elementwise comparison\n",
      "  if self._edgecolors == str('face'):\n"
     ]
    },
    {
     "data": {
      "image/png": "[encoded data removed]",
      "text/plain": [
       "<matplotlib.figure.Figure at 0x7f3c90e70d30>"
      ]
     },
     "metadata": {},
     "output_type": "display_data"
    }
   ],
   "source": [
    "M = 50\n",
    "\n",
    "X_train = np.linspace(5, 30, num=M)\n",
    "w_true, b = np.array([-2.0]), 50\n",
    "\n",
    "# Compute ys\n",
    "noise_level = 2\n",
    "ys_train = w_true[0]*X_train + b\n",
    "ys_train = np.array([y + np.random.randn()*noise_level for y in ys_train])\n",
    "\n",
    "pd.DataFrame({'x': X_train, 'y': ys_train}).plot(kind='scatter', x='x', y='y')"
   ]
  },
  {
   "cell_type": "markdown",
   "metadata": {},
   "source": [
    "## Visualize the Model"
   ]
  },
  {
   "cell_type": "code",
   "execution_count": 58,
   "metadata": {
    "collapsed": false,
    "scrolled": true
   },
   "outputs": [
    {
     "data": {
      "image/png": "[encoded data removed]",
      "text/plain": [
       "<matplotlib.figure.Figure at 0x7f3c8cdbc2b0>"
      ]
     },
     "metadata": {},
     "output_type": "display_data"
    }
   ],
   "source": [
    "from ipywidgets import interact, fixed\n",
    "\n",
    "lr = LinearRegression(X_train, ys_train)\n",
    "def estimates(iters):\n",
    "    for _ in range(iters):\n",
    "        yield lr.step()\n",
    "    \n",
    "estimates = list(estimates(15000))\n",
    "\n",
    "@interact(X=fixed(X_train), ys=fixed(ys_train), view_index=(0, len(estimates)), estimates=fixed(estimates))\n",
    "def plot(X, ys, view_index, estimates):\n",
    "    w, b = estimates[view_index]\n",
    "    \n",
    "    xs = np.linspace(0, 50)\n",
    "    \n",
    "    # Get data into suitable form for plotting\n",
    "    df1 = pd.DataFrame({'x': X, 'noisy_y': ys})\n",
    "    df2 = pd.DataFrame({'x': xs, 'estimate': w*xs + b})\n",
    "    \n",
    "    # Plot\n",
    "    axes = df1.plot(kind='scatter', x='x', y='noisy_y')\n",
    "    axes = df2.plot(ax=axes, x='x', y='estimate')\n",
    "    \n",
    "    axes.set_ylim(0,max(ys)+50)\n",
    "    axes.set_xlim(0,max(X)+5)"
   ]
  },
  {
   "cell_type": "code",
   "execution_count": 280,
   "metadata": {
    "collapsed": false
   },
   "outputs": [],
   "source": [
    "estimate = lin_reg(X_train.reshape(1,M), ys=ys_train, learning_rate=0.005)\n",
    "estimates = [next(estimate) for _ in range(100)]\n",
    "\n",
    "df = pd.DataFrame(estimates, columns=Model._fields)"
   ]
  }
 ],
 "metadata": {
  "kernelspec": {
   "display_name": "Python 3",
   "language": "python",
   "name": "python3"
  },
  "language_info": {
   "codemirror_mode": {
    "name": "ipython",
    "version": 3
   },
   "file_extension": ".py",
   "mimetype": "text/x-python",
   "name": "python",
   "nbconvert_exporter": "python",
   "pygments_lexer": "ipython3",
   "version": "3.5.0"
  }
 },
 "nbformat": 4,
 "nbformat_minor": 0
}
