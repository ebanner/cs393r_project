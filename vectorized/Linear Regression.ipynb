{
 "cells": [
  {
   "cell_type": "markdown",
   "metadata": {},
   "source": [
    "# Linear Regression Vectorized\n",
    "\n",
    "Vectorized Implementation of Linear Regression"
   ]
  },
  {
   "cell_type": "code",
   "execution_count": 16,
   "metadata": {
    "collapsed": false
   },
   "outputs": [],
   "source": [
    "from collections import namedtuple\n",
    "\n",
    "Model = namedtuple('Model', ['w', 'b', 'dW', 'db', 'y_hats', 'dlosses', 'dy_hats', 'loss'])\n",
    "\n",
    "def lin_reg(X, W=None, b=0.0, ys=None, learning_rate=0.001):\n",
    "    \"\"\"Run gradient descent on multiple training examples\n",
    "    \n",
    "    Yield successive states of the model\n",
    "    \n",
    "    \"\"\"\n",
    "    N, M = X.shape\n",
    "    (M,) = ys.shape\n",
    "        \n",
    "    W = np.array([0.0]) if not W else W\n",
    "    b = 0.0\n",
    "    \n",
    "    while True:\n",
    "        # Forward Pass (predictions)\n",
    "        y_hats = W @ X + b\n",
    "\n",
    "        # Compute loss (negate loss so we can think of maximizing output of the network)\n",
    "        losses = 0.5 * (y_hats-ys)**2\n",
    "        loss = sum(losses) / M\n",
    "\n",
    "        # Backpropagate to find dw and db\n",
    "        dlosses = np.ones_like(losses)\n",
    "        dy_hats = (y_hats-ys) * dlosses\n",
    "        db = sum(dy_hats)\n",
    "        dW = dy_hats @ X.T\n",
    "        \n",
    "        # Normalize by the number of training examples\n",
    "        db /= M\n",
    "        dW /= M\n",
    "\n",
    "        yield Model(*W, b, *dW, db, y_hats, dlosses, dy_hats, loss)\n",
    "\n",
    "        # Gradient descent\n",
    "        W -= learning_rate*dW\n",
    "        b -= learning_rate*db"
   ]
  },
  {
   "cell_type": "markdown",
   "metadata": {},
   "source": [
    "## Create Synthetic Data"
   ]
  },
  {
   "cell_type": "code",
   "execution_count": 28,
   "metadata": {
    "collapsed": false
   },
   "outputs": [
    {
     "data": {
      "text/plain": [
       "<matplotlib.axes._subplots.AxesSubplot at 0x7f3c90ee33c8>"
      ]
     },
     "execution_count": 28,
     "metadata": {},
     "output_type": "execute_result"
    },
    {
     "name": "stderr",
     "output_type": "stream",
     "text": [
      "/home/ebanner/.anaconda/envs/py35/lib/python3.5/site-packages/matplotlib/collections.py:590: FutureWarning: elementwise comparison failed; returning scalar instead, but in the future will perform elementwise comparison\n",
      "  if self._edgecolors == str('face'):\n"
     ]
    },
    {
     "data": {
      "image/png": "[encoded data removed]",
      "text/plain": [
       "<matplotlib.figure.Figure at 0x7f3c90dec668>"
      ]
     },
     "metadata": {},
     "output_type": "display_data"
    }
   ],
   "source": [
    "M = 50\n",
    "\n",
    "X_train = np.linspace(5, 30, num=M)\n",
    "w_true, b = np.array([-0.5]), 50\n",
    "\n",
    "# Compute ys\n",
    "noise_level = 2\n",
    "ys_train = w_true[0]*X_train + b\n",
    "ys_train = np.array([y + np.random.randn()*noise_level for y in ys_train])\n",
    "\n",
    "pd.DataFrame({'x': X_train, 'y': ys_train}).plot(kind='scatter', x='x', y='y')"
   ]
  },
  {
   "cell_type": "markdown",
   "metadata": {},
   "source": [
    "## Visualize the Model"
   ]
  },
  {
   "cell_type": "code",
   "execution_count": 29,
   "metadata": {
    "collapsed": false,
    "scrolled": true
   },
   "outputs": [
    {
     "data": {
      "image/png": "[encoded data removed]",
      "text/plain": [
       "<matplotlib.figure.Figure at 0x7f3c902ea588>"
      ]
     },
     "metadata": {},
     "output_type": "display_data"
    }
   ],
   "source": [
    "from ipywidgets import interact, fixed\n",
    "\n",
    "estimate = lin_reg(X_train.reshape(1,M), ys=ys_train, learning_rate=0.003)\n",
    "estimates = [next(estimate) for _ in range(20000)]\n",
    "\n",
    "@interact(X=fixed(X_train), ys=fixed(ys_train), view_index=(0, len(estimates)), estimates=fixed(estimates))\n",
    "def plot(X, ys, view_index, estimates):\n",
    "    w, b, _, _, _, _, _, _ = estimates[view_index]\n",
    "    \n",
    "    xs = np.linspace(0, 50)\n",
    "    \n",
    "    # Get data into suitable form for plotting\n",
    "    df1 = pd.DataFrame({'x': X, 'noisy_y': ys})\n",
    "    df2 = pd.DataFrame({'x': xs, 'estimate': w*xs + b})\n",
    "    \n",
    "    # Plot\n",
    "    axes = df1.plot(kind='scatter', x='x', y='noisy_y')\n",
    "    axes = df2.plot(ax=axes, x='x', y='estimate')\n",
    "    \n",
    "    axes.set_ylim(0,100)\n",
    "    axes.set_xlim(0,40)"
   ]
  },
  {
   "cell_type": "code",
   "execution_count": 280,
   "metadata": {
    "collapsed": false
   },
   "outputs": [],
   "source": [
    "estimate = lin_reg(X_train.reshape(1,M), ys=ys_train, learning_rate=0.005)\n",
    "estimates = [next(estimate) for _ in range(100)]\n",
    "\n",
    "df = pd.DataFrame(estimates, columns=Model._fields)"
   ]
  }
 ],
 "metadata": {
  "kernelspec": {
   "display_name": "Python 3",
   "language": "python",
   "name": "python3"
  },
  "language_info": {
   "codemirror_mode": {
    "name": "ipython",
    "version": 3
   },
   "file_extension": ".py",
   "mimetype": "text/x-python",
   "name": "python",
   "nbconvert_exporter": "python",
   "pygments_lexer": "ipython3",
   "version": "3.5.0"
  }
 },
 "nbformat": 4,
 "nbformat_minor": 0
}
