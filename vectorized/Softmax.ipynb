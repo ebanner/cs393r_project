{
 "cells": [
  {
   "cell_type": "markdown",
   "metadata": {},
   "source": [
    "# Softmax\n",
    "\n",
    "Vectorized softmax classifier model with cross-entropy loss. Includes support for:\n",
    "\n",
    "- Minibatching\n",
    "- Optional gradient checking\n",
    "- L2 Regularization\n",
    "- Logging so you can see what the scores, probabilities, gradients, etc. were after every minibatch"
   ]
  },
  {
   "cell_type": "code",
   "execution_count": 8,
   "metadata": {
    "collapsed": true
   },
   "outputs": [],
   "source": [
    "from collections import namedtuple\n",
    "\n",
    "Model = namedtuple('Model', ['X', 'ys', 'W', 'b', 'scores', 'probs', 'dscores', 'db', 'dW', 'loss'])\n",
    "State = namedtuple('State', ['loss', 'dws', 'dbs'])"
   ]
  },
  {
   "cell_type": "code",
   "execution_count": 9,
   "metadata": {
    "collapsed": false
   },
   "outputs": [],
   "source": [
    "from lib.softmax import softmax_vectorized\n",
    "\n",
    "class Softmax:\n",
    "    \"\"\"Initialize model parameters\n",
    "    \n",
    "    Additionally calculate batch index so we can use minibatches with each training iteration\n",
    "    \n",
    "    If you want to inspect the scores after each training example, the pass inspect. If you do\n",
    "    this then you better set a batch_size to 1. Otherwise you'll only ever get the scores of\n",
    "    the last training example in the minibatch\n",
    "    \n",
    "    \"\"\"\n",
    "    def __init__(self, X, ys_train, num_classes, W=None, b=None,\n",
    "                 learning_rate=0.001, regularizer=1., batch_size=None,\n",
    "                gradient_checking=False, inspect=False):\n",
    "        \"\"\"Initializes softmax classifier\n",
    "        \n",
    "        Parameters\n",
    "        ----------\n",
    "        xs_train : 2d array of training example inputs\n",
    "        ys_train : list of labels\n",
    "        num_classes : number of target classes\n",
    "        ws : list (length 2) of weights\n",
    "        bs : list (length 2) of biases\n",
    "        learning_rate : learning rate constant\n",
    "        regularizer : regularization constant\n",
    "        batch_size : size of minibatch\n",
    "        gradient_checking : boolean whether to perform gradient checking during training\n",
    "        inspect : boolean whether to log all data after every learning session from a training example\n",
    "        \n",
    "        \"\"\"\n",
    "        (self.N, self.M) = X.shape\n",
    "        \n",
    "        self.X_train, self.ys_train = X, ys_train\n",
    "        self.W = np.random.randn(num_classes, self.N)\n",
    "        self.b = np.random.randn(num_classes).reshape(num_classes, 1)\n",
    "        \n",
    "        self.learning_rate = learning_rate\n",
    "        self.regularizer = regularizer\n",
    "        \n",
    "        self.batch_size = self.m if not batch_size else batch_size\n",
    "        self.batch_index = 0\n",
    "        \n",
    "        self.gradient_checking = gradient_checking\n",
    "        self.inspect = inspect\n",
    "        \n",
    "        # Info from the *last* minibatch that was used to learn from\n",
    "        self.X, self.ys = None, None\n",
    "        self.scores, self.dscores = None, None\n",
    "        self.probs = None\n",
    "        self.dW, self.dbs = None, None\n",
    "        self.loss = None\n",
    "        \n",
    "    def forward_backward_prop(self, W=None, b=None):\n",
    "        \"\"\"Perform forward and backward prop over a minibatch of training examples\n",
    "        \n",
    "        Returns loss and gradients\n",
    "        \n",
    "        \"\"\"\n",
    "        W = self.W if not type(W) == np.ndarray else W\n",
    "        b = self.b if not type(b) == np.ndarray else b\n",
    "        \n",
    "        # Get minibatch of training examples\n",
    "        low, high = self.batch_index*self.batch_size, (self.batch_index+1)*self.batch_size\n",
    "        X = self.X_train[:, low:high].reshape(self.N, self.batch_size)\n",
    "        ys = self.ys_train[low:high]\n",
    "        \n",
    "        # Forward Pass (predictions)\n",
    "        scores = W @ X + b\n",
    "        probs = softmax_vectorized(scores)\n",
    "        y_hats = probs[ys, range(self.batch_size)]\n",
    "\n",
    "        # Loss\n",
    "        losses = -np.log(y_hats)\n",
    "        loss = sum(losses)\n",
    "        loss += (self.regularizer * (0.5*(W**2).sum() + 0.5*(b**2).sum()))\n",
    "\n",
    "        # Backpropagate to find dw and db\n",
    "        dscores = probs\n",
    "        dscores[ys, range(self.batch_size)] -= 1\n",
    "        \n",
    "        db = dscores.sum(axis=1, keepdims=True)\n",
    "        dW = dscores @ X.T\n",
    "        \n",
    "        # Regularization\n",
    "        db += (self.regularizer*b)\n",
    "        dW += (self.regularizer*W)\n",
    "        \n",
    "        # Log additional info?\n",
    "        if self.inspect:\n",
    "            self.X, self.ys = X, ys\n",
    "            self.scores, self.dscores = scores, dscores\n",
    "            self.dscores[ys, range(self.batch_size)] += 1\n",
    "            self.probs = probs\n",
    "        \n",
    "        return State(loss/self.M, dW/self.M, db/self.M)\n",
    "    \n",
    "    def learn(self):\n",
    "        \"\"\"Learn from a minibatch of training examples\n",
    "        \n",
    "        Have the model run forward-backward prop on these examples and average the gradients\n",
    "        \n",
    "        \"\"\"        \n",
    "        loss, dW, db = self.forward_backward_prop()\n",
    "        \n",
    "        self.gradient_check(dW, db)\n",
    "        \n",
    "        self.W = self.W - self.learning_rate*dW\n",
    "        self.b = self.b - self.learning_rate*db\n",
    "        \n",
    "        # Update batch index so the next time the next batch in line is used\n",
    "        self.batch_index = (self.batch_index+1) % (self.M//self.batch_size)\n",
    "        \n",
    "        # Log additional info?\n",
    "        if self.inspect:\n",
    "            self.dW = dW\n",
    "            self.db = db\n",
    "            self.loss = loss\n",
    "    \n",
    "    def gradient_check(self, analytic_dW, analytic_db):\n",
    "        \"\"\"Verify gradient correctness\n",
    "        \n",
    "        The analytic_dws and analytic_dbs come from doing forward-backward\n",
    "        prop just a second ago. We numerically estimate these gradients on\n",
    "        the *same* minibatch the analytic gradients were computed from and\n",
    "        compare them to see if they are close.\n",
    "        \n",
    "        Note the same minibatch is being used because this function gets\n",
    "        called *before* the update to batch_index\n",
    "        \n",
    "        \"\"\"\n",
    "        if not self.gradient_checking:\n",
    "            return\n",
    "        \n",
    "        numerical_dW, numerical_db = self.numerical_gradients()\n",
    "\n",
    "        # Compute relative error\n",
    "        dW_error = abs(numerical_dW - analytic_dW) / (abs(numerical_dW) + abs(analytic_dW))\n",
    "        db_error = abs(numerical_db - analytic_db) / (abs(numerical_db) + abs(analytic_db))\n",
    "\n",
    "        try:\n",
    "            assert(np.linalg.norm(dW_error) < 1e-6 and np.linalg.norm(db_error) < 1e-6)\n",
    "        except AssertionError:\n",
    "            warn('Gradient check failed!')\n",
    "            warn('dW relative error: {}'.format(dW_error))\n",
    "            warn('db relative error: {}'.format(db_error))\n",
    "            \n",
    "    def numerical_gradients(self):\n",
    "        \"\"\"Compute numerical gradients of f with respect to self.W and self.b\n",
    "\n",
    "        Returns approximation for df/dW and df/db\n",
    "\n",
    "        \"\"\"\n",
    "        dW, db = np.zeros_like(self.W), np.zeros_like(self.b)\n",
    "        h = np.zeros_like(self.W)\n",
    "        step = 1e-5\n",
    "        W, b = self.W, self.b\n",
    "    \n",
    "        # df/dW\n",
    "        it = np.nditer(W, flags=['multi_index'])\n",
    "        while not it.finished:\n",
    "            ix = it.multi_index\n",
    "            h[ix] = step\n",
    "            \n",
    "            dW[ix] = (self.forward_backward_prop(W+h, b).loss - self.forward_backward_prop(W-h, b).loss) / (2*step)\n",
    "\n",
    "            h[ix] = 0\n",
    "            it.iternext()\n",
    "            \n",
    "        # df/db\n",
    "        h = np.zeros_like(self.b)\n",
    "        it = np.nditer(b, flags=['multi_index'])\n",
    "        while not it.finished:\n",
    "            ix = it.multi_index\n",
    "            h[ix] = step\n",
    "            \n",
    "            db[ix] = (self.forward_backward_prop(W, b+h).loss - self.forward_backward_prop(W, b-h).loss) / (2*step)\n",
    "\n",
    "            h[ix] = 0\n",
    "            it.iternext()\n",
    "\n",
    "        return dW, db\n",
    "\n",
    "    @property\n",
    "    def info(self):\n",
    "        return Model(self.X, self.ys,\n",
    "                     self.W, self.b,\n",
    "                     self.scores, self.probs, self.dscores,\n",
    "                     self.db, self.dW, self.loss)"
   ]
  },
  {
   "cell_type": "markdown",
   "metadata": {},
   "source": [
    "## Run it!"
   ]
  },
  {
   "cell_type": "code",
   "execution_count": 10,
   "metadata": {
    "collapsed": false
   },
   "outputs": [],
   "source": [
    "from data.softmax import X_train, ys_train\n",
    "\n",
    "sm = Softmax(X_train, ys_train, num_classes=2, learning_rate=.01, regularizer=0, batch_size=1, gradient_checking=False, inspect=True)\n",
    "\n",
    "def states(iters):\n",
    "    for _ in range(iters):\n",
    "        sm.learn()\n",
    "        yield sm.info\n",
    "        \n",
    "states = list(states(50000))"
   ]
  },
  {
   "cell_type": "markdown",
   "metadata": {},
   "source": [
    "## Plot the Weights!"
   ]
  },
  {
   "cell_type": "code",
   "execution_count": 11,
   "metadata": {
    "collapsed": true
   },
   "outputs": [],
   "source": [
    "df = pd.DataFrame(states, columns=Model._fields)\n",
    "\n",
    "Params = namedtuple('Params', ['x', 'y', 'label', 'w11', 'w21', 'w12', 'w22', 'b1', 'b2', 's1', 's2', 'p1', 'p2', 'ds1', 'ds2', 'db1', 'db2', 'dw11', 'dw21', 'dw12', 'dw22', 'loss'])\n",
    "\n",
    "def params():\n",
    "    for s in states:\n",
    "        yield Params(s.X[0,0], s.X[1,0], s.ys[0],\n",
    "                     s.W[0,0], s.W[1,0], s.W[0,1], s.W[1,1], s.b[0, 0], s.b[1, 0],\n",
    "                     s.scores[0, 0], s.scores[1, 0], s.probs[0, 0], s.probs[1, 0], s.dscores[0, 0], s.dscores[1, 0],\n",
    "                     s.db[0, 0], s.db[1, 0], s.dW[0,0], s.dW[1,0], s.dW[0,1], s.dW[1,1],\n",
    "                     s.loss)\n",
    "\n",
    "params = list(params())"
   ]
  },
  {
   "cell_type": "code",
   "execution_count": 12,
   "metadata": {
    "collapsed": false,
    "scrolled": true
   },
   "outputs": [
    {
     "data": {
      "text/plain": [
       "x  y\n",
       "1  1    Axes(0.125,0.125;0.775x0.775)\n",
       "   2    Axes(0.125,0.125;0.775x0.775)\n",
       "2  1    Axes(0.125,0.125;0.775x0.775)\n",
       "   2    Axes(0.125,0.125;0.775x0.775)\n",
       "Name: loss, dtype: object"
      ]
     },
     "execution_count": 12,
     "metadata": {},
     "output_type": "execute_result"
    },
    {
     "data": {
      "image/png": "[encoded data removed]",
      "text/plain": [
       "<matplotlib.figure.Figure at 0x7f28da7260b8>"
      ]
     },
     "metadata": {},
     "output_type": "display_data"
    }
   ],
   "source": [
    "df = pd.DataFrame(params, columns=Params._fields)\n",
    "\n",
    "df.groupby(['x', 'y'])['loss'].plot()"
   ]
  },
  {
   "cell_type": "code",
   "execution_count": 13,
   "metadata": {
    "collapsed": false,
    "scrolled": true
   },
   "outputs": [
    {
     "data": {
      "text/plain": [
       "x  y\n",
       "1  1    Axes(0.125,0.125;0.775x0.775)\n",
       "   2    Axes(0.125,0.125;0.775x0.775)\n",
       "2  1    Axes(0.125,0.125;0.775x0.775)\n",
       "   2    Axes(0.125,0.125;0.775x0.775)\n",
       "dtype: object"
      ]
     },
     "execution_count": 13,
     "metadata": {},
     "output_type": "execute_result"
    },
    {
     "data": {
      "image/png": "[encoded data removed]",
      "text/plain": [
       "<matplotlib.figure.Figure at 0x7f28dccb5ac8>"
      ]
     },
     "metadata": {},
     "output_type": "display_data"
    },
    {
     "data": {
      "image/png": "[encoded data removed]",
      "text/plain": [
       "<matplotlib.figure.Figure at 0x7f28dccb5e10>"
      ]
     },
     "metadata": {},
     "output_type": "display_data"
    },
    {
     "data": {
      "image/png": "[encoded data removed]",
      "text/plain": [
       "<matplotlib.figure.Figure at 0x7f28dccb55f8>"
      ]
     },
     "metadata": {},
     "output_type": "display_data"
    },
    {
     "data": {
      "image/png": "[encoded data removed]",
      "text/plain": [
       "<matplotlib.figure.Figure at 0x7f28d83e82e8>"
      ]
     },
     "metadata": {},
     "output_type": "display_data"
    }
   ],
   "source": [
    "df.groupby(['x', 'y'])[['s1', 's2']].plot()"
   ]
  },
  {
   "cell_type": "markdown",
   "metadata": {},
   "source": [
    "## XOR Fail"
   ]
  },
  {
   "cell_type": "code",
   "execution_count": 14,
   "metadata": {
    "collapsed": false,
    "scrolled": false
   },
   "outputs": [
    {
     "data": {
      "image/png": "[encoded data removed]",
      "text/plain": [
       "<matplotlib.figure.Figure at 0x7f28d7a5fdd8>"
      ]
     },
     "metadata": {},
     "output_type": "display_data"
    }
   ],
   "source": [
    "from ipywidgets import interact, fixed\n",
    "\n",
    "@interact(X_train=fixed(X_train), ys_train=fixed(ys_train), view_index=(0, len(states)), states=fixed(states))\n",
    "def plot(X_train, ys_train, view_index, states):\n",
    "    s = states[view_index]\n",
    "    X = X_train.T\n",
    "    \n",
    "    # Plot positives\n",
    "    poss = X[:len(X)//2]\n",
    "    xs, ys = poss[:, 0], poss[:, 1]\n",
    "    axes = pd.DataFrame({'x': xs, 'y': ys}).plot(kind='scatter', x='x', y='y', color='b', marker='+')\n",
    "    \n",
    "    # Plot negatives\n",
    "    negs = X[len(X)//2:]\n",
    "    xs, ys = negs[:, 0], negs[:, 1]\n",
    "    axes = pd.DataFrame({'x': xs, 'y': ys}).plot(ax=axes, kind='scatter', x='x', y='y', color='r', marker='+')\n",
    "    \n",
    "    # Generate decision boundary\n",
    "    xs = np.linspace(0, 3)\n",
    "    ys = (s.W[0,0]-s.W[1,0]*xs + (s.b[0]-s.b[1])) / (s.W[1,1]-s.W[0,1])\n",
    "    \n",
    "    # Plot decision boundary\n",
    "    axes = pd.DataFrame(ys, index=xs).plot(ax=axes)\n",
    "    \n",
    "    axes.set_ylim(0, 3)\n",
    "    axes.set_xlim(0, 3)"
   ]
  }
 ],
 "metadata": {
  "kernelspec": {
   "display_name": "Python 3",
   "language": "python",
   "name": "python3"
  },
  "language_info": {
   "codemirror_mode": {
    "name": "ipython",
    "version": 3
   },
   "file_extension": ".py",
   "mimetype": "text/x-python",
   "name": "python",
   "nbconvert_exporter": "python",
   "pygments_lexer": "ipython3",
   "version": "3.5.0"
  }
 },
 "nbformat": 4,
 "nbformat_minor": 0
}
