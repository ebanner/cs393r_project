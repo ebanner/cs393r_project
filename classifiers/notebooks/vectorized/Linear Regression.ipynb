{
 "cells": [
  {
   "cell_type": "markdown",
   "metadata": {},
   "source": [
    "# Linear Regression Vectorized\n",
    "\n",
    "Vectorized Implementation of Linear Regression"
   ]
  },
  {
   "cell_type": "code",
   "execution_count": 1,
   "metadata": {
    "collapsed": true
   },
   "outputs": [],
   "source": [
    "from collections import namedtuple\n",
    "\n",
    "Model = namedtuple('Model', ['W', 'b', 'dW', 'db'])\n",
    "State = namedtuple('State', ['loss', 'dW', 'db'])"
   ]
  },
  {
   "cell_type": "code",
   "execution_count": 2,
   "metadata": {
    "collapsed": false
   },
   "outputs": [],
   "source": [
    "class LinearRegression:\n",
    "    def __init__(self, X, ys, W=None, b=0.0, learning_rate=0.001, batch_size=None):\n",
    "        # Initialize starting weights and biases\n",
    "        (self.M,) = X.shape\n",
    "        \n",
    "        self.X, self.ys_train = X.reshape(1, self.M), ys\n",
    "        self.learning_rate = learning_rate\n",
    "        \n",
    "        self.W = np.array([0.0]) if not W else W\n",
    "        self.b = 0.0\n",
    "        \n",
    "        self.batch_size = self.M if not batch_size else batch_size\n",
    "        self.batch_index = 0\n",
    "        \n",
    "    def forward_backward_prop(self, W=None, b=None):\n",
    "        \"\"\"Perform forward and backward prop over a minibatch of training examples\n",
    "        \n",
    "        Returns loss and gradients\n",
    "        \n",
    "        \"\"\"\n",
    "        W = self.W if not W else W\n",
    "        b = self.b if not b else b\n",
    "        \n",
    "        # Get minibatch of training examples\n",
    "        low, high = self.batch_index*self.batch_size, (self.batch_index+1)*self.batch_size\n",
    "        X = self.X[0, low:high].reshape(1, self.batch_size)\n",
    "        \n",
    "        # Forward Pass (predictions)\n",
    "        y_hats = W @ X + b\n",
    "\n",
    "        # Loss\n",
    "        losses = 0.5 * (y_hats-self.ys_train[low:high])**2\n",
    "        loss = sum(losses)\n",
    "\n",
    "        # Backpropagate to find dw and db\n",
    "        dlosses = np.ones_like(losses)\n",
    "        dy_hats = (y_hats-self.ys_train[low:high]) * dlosses\n",
    "        db = sum(dy_hats)\n",
    "        dW = dy_hats @ X.T\n",
    "        \n",
    "        return State(loss/self.M, dW/self.M, db/self.M)\n",
    "    \n",
    "    def step(self):\n",
    "        \"\"\"Run one iteration of batch gradient descent\"\"\"\n",
    "        \n",
    "        loss, dW, db = self.forward_backward_prop()\n",
    "        \n",
    "        self.W -= self.learning_rate*dW\n",
    "        self.b -= self.learning_rate*db\n",
    "        \n",
    "        # Update batch index so the next time the next batch in line is used\n",
    "        self.batch_index = (self.batch_index+1) % (self.M//self.batch_size)\n",
    "        \n",
    "        return Model(*self.W, self.b, *dW, db)"
   ]
  },
  {
   "cell_type": "markdown",
   "metadata": {},
   "source": [
    "## Run it!"
   ]
  },
  {
   "cell_type": "code",
   "execution_count": 3,
   "metadata": {
    "collapsed": false
   },
   "outputs": [],
   "source": [
    "from data.lin_reg import xs_train, ys_train\n",
    "\n",
    "lr = LinearRegression(xs_train, ys_train, batch_size=10)\n",
    "def estimates(iters):\n",
    "    for _ in range(iters):\n",
    "        yield lr.step()\n",
    "        \n",
    "estimates = list(estimates(150000))"
   ]
  },
  {
   "cell_type": "markdown",
   "metadata": {},
   "source": [
    "## How Does the Model Evolve Over Time?"
   ]
  },
  {
   "cell_type": "code",
   "execution_count": 5,
   "metadata": {
    "collapsed": false,
    "scrolled": true
   },
   "outputs": [
    {
     "data": {
      "image/png": "[encoded data removed]",
      "text/plain": [
       "<matplotlib.figure.Figure at 0x7fc6b87d3c50>"
      ]
     },
     "metadata": {},
     "output_type": "display_data"
    }
   ],
   "source": [
    "from ipywidgets import interact, fixed\n",
    "\n",
    "@interact(X=fixed(xs_train), ys=fixed(ys_train), view_index=(0, len(estimates)), estimates=fixed(estimates))\n",
    "def plot(X, ys, view_index, estimates):\n",
    "    w, b, _, _ = estimates[view_index]\n",
    "    \n",
    "    xs = np.linspace(0, 50)\n",
    "    \n",
    "    # Get data into suitable form for plotting\n",
    "    df1 = pd.DataFrame({'x': X, 'noisy_y': ys})\n",
    "    df2 = pd.DataFrame({'x': xs, 'estimate': w*xs + b})\n",
    "    \n",
    "    # Plot\n",
    "    axes = df1.plot(kind='scatter', x='x', y='noisy_y')\n",
    "    axes = df2.plot(ax=axes, x='x', y='estimate')\n",
    "    \n",
    "    axes.set_ylim(min(ys_train)-30, max(ys_train)+50)\n",
    "    axes.set_xlim(min(X)-5, max(X)+5)"
   ]
  },
  {
   "cell_type": "markdown",
   "metadata": {},
   "source": [
    "## Finite Difference Gradient Check"
   ]
  },
  {
   "cell_type": "code",
   "execution_count": 90,
   "metadata": {
    "collapsed": false
   },
   "outputs": [],
   "source": [
    "def numerical_gradients(f, W, b):\n",
    "    \"\"\"Compute numerical gradients of f with respect to w and b\n",
    "    \n",
    "    Returns approximation for df/dw and df/db\n",
    "    \n",
    "    \"\"\"\n",
    "    dW, h = np.zeros_like(W), np.zeros_like(W)\n",
    "    step = 0.00001\n",
    "\n",
    "    # df/dW\n",
    "    it = np.nditer(W, flags=['multi_index'])\n",
    "    while not it.finished:\n",
    "        ix = it.multi_index\n",
    "        h[ix] = step\n",
    "        \n",
    "        dW[ix] = (f(W+h, b)-f(W-h, b)) / (2*step)\n",
    "        \n",
    "        h[ix] = 0\n",
    "        it.iternext()\n",
    "        \n",
    "    # df/db\n",
    "    db = (f(W, b+step)-f(W, b-step)) / (2*step)\n",
    "\n",
    "    return dW, db"
   ]
  },
  {
   "cell_type": "markdown",
   "metadata": {},
   "source": [
    "## Run Through a Few Iterations and Assert Analytic and Numerical Gradients are Close"
   ]
  },
  {
   "cell_type": "code",
   "execution_count": 101,
   "metadata": {
    "collapsed": false
   },
   "outputs": [
    {
     "name": "stdout",
     "output_type": "stream",
     "text": [
      "Gradient check passed!\n"
     ]
    }
   ],
   "source": [
    "lr = LinearRegression(X_train, ys_train)\n",
    "\n",
    "for _ in range(10):\n",
    "    # Analytic gradient computed via backprop\n",
    "    _, analytic_dW, analytic_db = lr.forward_backward_prop()\n",
    "    \n",
    "    # Numerical gradient computed via twiddling w and b and inspecting loss\n",
    "    numerical_dW, numerical_db = numerical_gradients(lambda W, b: lr.forward_backward_prop(W, b).loss, lr.W, lr.b)\n",
    "    \n",
    "    # Compute relative error\n",
    "    dW_error = abs(numerical_dW - analytic_dW) / (abs(numerical_dW) + abs(analytic_dW))\n",
    "    db_error = abs(numerical_db - analytic_db) / (abs(numerical_db) + abs(analytic_db))\n",
    "    \n",
    "    try:\n",
    "        assert(np.linalg.norm(dW_error) < 1e-6 and db_error < 1e-6)\n",
    "    except AssertionError:\n",
    "        warn(dw_error)\n",
    "        warn(db_error)\n",
    "        \n",
    "else:\n",
    "    print('Gradient check passed!')"
   ]
  }
 ],
 "metadata": {
  "kernelspec": {
   "display_name": "Python 3",
   "language": "python",
   "name": "python3"
  },
  "language_info": {
   "codemirror_mode": {
    "name": "ipython",
    "version": 3
   },
   "file_extension": ".py",
   "mimetype": "text/x-python",
   "name": "python",
   "nbconvert_exporter": "python",
   "pygments_lexer": "ipython3",
   "version": "3.5.0"
  }
 },
 "nbformat": 4,
 "nbformat_minor": 0
}
