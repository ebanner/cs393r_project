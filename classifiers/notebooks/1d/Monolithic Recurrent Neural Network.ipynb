{
 "cells": [
  {
   "cell_type": "markdown",
   "metadata": {},
   "source": [
    "# Monolithic Neural Network\n",
    "\n",
    "1D two-layer neural network with sigmoid activation unit and cross-entropy loss. Includes support for:\n",
    "\n",
    "- Minibatching\n",
    "- Optional gradient checking\n",
    "- L2 Regularization\n",
    "- Logging so you can see what the scores, probabilities, gradients, etc. were after every minibatch"
   ]
  },
  {
   "cell_type": "code",
   "execution_count": 1,
   "metadata": {
    "collapsed": true
   },
   "outputs": [],
   "source": [
    "from collections import namedtuple\n",
    "\n",
    "State = namedtuple('State', ['loss', 'dwhh', 'dbhh', 'dwxh', 'dbxh', 'dws', 'dbs'])\n",
    "Snapshot = namedtuple('State', ['xs', 'ys', 'whh', 'bhh', 'wxh', 'bxh', 'ws', 'bs', 'dwhh', 'dbhh', 'dwxh', 'dbxh', 'dws', 'dbs', 'scores', 'loss'])"
   ]
  },
  {
   "cell_type": "code",
   "execution_count": 2,
   "metadata": {
    "collapsed": false
   },
   "outputs": [],
   "source": [
    "from softmax import softmax_2d\n",
    "from nn.shallow.helper import sigmoid, sigmoid_grad\n",
    "\n",
    "class RecurrentNeuralNetwork:\n",
    "    \"\"\"Initialize model parameters\n",
    "    \n",
    "    Additionally calculate batch index so we can use minibatches with each training iteration\n",
    "    \n",
    "    If you want to inspect the scores after each training example, the pass inspect. If you do\n",
    "    this then you better set a batch_size to 1. Otherwise you'll only ever get the scores of\n",
    "    the last training example in the minibatch\n",
    "    \n",
    "    \"\"\"\n",
    "    def __init__(self, xs_train, ys_train, whh=None, bhh=None, wxh=None, bxh=None, ws=None, bs=None,\n",
    "                 learning_rate=0.001, regularizer=1., batch_size=None,\n",
    "                gradient_checking=False, inspect=False):\n",
    "        \"\"\"Initializes monolithic neural network model\n",
    "        \n",
    "        Parameters\n",
    "        ----------\n",
    "        xs_train : list of lists. every list is a sequence of inputs for the rnn to classify\n",
    "        ys_train : list of lists. every list is a sequence of labels that the rnn learns to predict\n",
    "        whh : weight that multiplies the hidden term\n",
    "        bhh : bias term of the hidden weight\n",
    "        wxh : weight associated with input\n",
    "        bxh : bias terms associated with input\n",
    "        ws : list (length 2) of softmax class weights\n",
    "        bs : list (length 2) of softmax class biases\n",
    "        learning_rate : learning rate constant\n",
    "        regularizer : regularization constant\n",
    "        batch_size : size of minibatch\n",
    "        gradient_checking : boolean whether to perform gradient checking during training\n",
    "        inspect : boolean whether to log all data after every learning session from a training example\n",
    "        \n",
    "        \"\"\"\n",
    "        self.m, self.t = len(xs_train), len(xs_train[0])\n",
    "        \n",
    "        self.xs_train, self.ys_train = xs_train, ys_train\n",
    "        \n",
    "        # Randomly initialize weights and biases\n",
    "        #\n",
    "        # Hidden and input weights\n",
    "        self.whh = np.random.randn() if not whh else whh\n",
    "        self.bhh = np.random.randn() if not bhh else bhh\n",
    "        self.wxh = np.random.randn() if not wxh else wxh\n",
    "        self.bxh = np.random.randn() if not bxh else bxh\n",
    "        \n",
    "        # Softmax weights\n",
    "        self.ws = np.array([np.random.randn(), np.random.randn()]) if not type(ws) == np.ndarray else ws\n",
    "        self.bs = np.array([np.random.randn(), np.random.randn()]) if not type(bs) == np.ndarray else bs\n",
    "        \n",
    "        self.learning_rate = learning_rate\n",
    "        self.regularizer = regularizer\n",
    "        \n",
    "        self.batch_size = 1 if not batch_size else batch_size\n",
    "        self.batch_index = 0\n",
    "        \n",
    "        self.gradient_checking = gradient_checking\n",
    "        self.inspect = inspect\n",
    "        \n",
    "        # Info from the *last* training example that was used to learn from\n",
    "        self.xs, self.ys = None, None\n",
    "        self.zs, self.hiddens = None, None\n",
    "        self.scores, self.dscores = None, None\n",
    "        self.probs = None\n",
    "        self.dws, self.dbs = None, None\n",
    "        self.dhiddens, self.dzs = [], None\n",
    "        self.dwhh, self.dbhh = None, None\n",
    "        self.dwxh, self.dbxh = None, None,\n",
    "        self.loss = None\n",
    "        \n",
    "    def predict(self, xs):\n",
    "        \"\"\"Return the probability of x belonging to either class\"\"\"\n",
    "        \n",
    "        scores = self.forward_backward_prop(xs, predict=True)\n",
    "        \n",
    "        return scores, [score_pair.argmax() for score_pair in scores]\n",
    "        \n",
    "    def forward_backward_prop(self, xs=None, whh=None, bhh=None, wxh=None, bxh=None, ws=None, bs=None, predict=False):\n",
    "        \"\"\"Perform forward and backward prop over a minibatch of training examples\n",
    "        \n",
    "        Returns loss and gradients\n",
    "        \n",
    "        \"\"\"\n",
    "        whh = self.whh if not whh else whh\n",
    "        bhh = self.bhh if not bhh else bhh\n",
    "        wxh = self.wxh if not wxh else wxh\n",
    "        bxh = self.bxh if not bxh else bxh\n",
    "        \n",
    "        ws = self.ws if not type(ws) == np.ndarray else ws\n",
    "        bs = self.bs if not type(bs) == np.ndarray else bs\n",
    "        \n",
    "        loss, dwhh, dbhh, dwxh, dbxh, dws, dbs = 0., 0., 0., 0., 0., np.array([0.,0.]), np.array([0.,0.])\n",
    "        index = self.batch_index\n",
    "        \n",
    "        # Perform forward-backward prop on a single sequence\n",
    "        xs_train = self.xs_train if not xs else xs\n",
    "        \n",
    "        xs = xs_train[index]\n",
    "        ys = self.ys_train[index]\n",
    "        \n",
    "        # Number of time steps in the sequence\n",
    "        T = len(xs)\n",
    "        \n",
    "        # Add additional dummy terms to xs and ys to align them with natural time\n",
    "        xs, ys = (None,) + xs, (None,) + ys\n",
    "        \n",
    "        self.hiddens = [1.]*(T+1)\n",
    "        self.scores, self.probs = [0.]*(T+1), [0.]*(T+1)\n",
    "        for t in range(1, T+1):\n",
    "            # Forward propagation!\n",
    "            #\n",
    "            # Combine previous hidden layer and current input\n",
    "            z = (whh*self.hiddens[t-1] + bhh) + (wxh*xs[t] + bxh)\n",
    "            hidden = sigmoid(z)\n",
    "            \n",
    "            # Softmax\n",
    "            scores = np.array([hidden,hidden])*ws + bs\n",
    "            probs = softmax_2d(scores)\n",
    "\n",
    "            # Accumulate performance loss and regularization loss\n",
    "            loss += -np.log(probs[ys[t]])\n",
    "            \n",
    "            # Cache values for backprop\n",
    "            self.hiddens[t], self.scores[t], self.probs[t] = hidden, scores, probs\n",
    "            \n",
    "        # Add regularization\n",
    "        loss += self.regularizer * 0.5*(whh**2 + bhh**2 + wxh**2 + bxh**2 + np.sum(ws**2) + np.sum(bs**2))\n",
    "            \n",
    "        # Backpropagate!\n",
    "        dhidden_prev = 0.\n",
    "        backwards = list(reversed(range(T+1)))\n",
    "        for t in backwards[:-1]:\n",
    "            # Cross entropy and softmax\n",
    "            dloss = 1\n",
    "            dscores = self.probs[t]\n",
    "            dscores[ys[t]] -= 1\n",
    "\n",
    "            # Softmax weight gradients\n",
    "            dbs += dscores\n",
    "            dws += self.hiddens[t] * dscores\n",
    "            \n",
    "            # Most critical part of the whole optimization:\n",
    "            #\n",
    "            # dhidden influences to different components of the loss (i.e. the softmax at\n",
    "            # time t and all future timesteps). Here we add them up and in doing so account\n",
    "            # for all the ways dhidden can influence the loss!\n",
    "            dhidden = sum(ws*dscores) + dhidden_prev\n",
    "            \n",
    "            # Sigmoid\n",
    "            dz = sigmoid_grad(self.hiddens[t]) * dhidden\n",
    "\n",
    "            # Input weights\n",
    "            dbxh += dz\n",
    "            dwxh += xs[t] * dz\n",
    "            dx = wxh * dz # Throw this aways for now\n",
    "\n",
    "            # Hidden weights\n",
    "            dbhh += dz\n",
    "            dwhh += self.hiddens[t-1] * dz\n",
    "\n",
    "            # Set up dhidden for the next round\n",
    "            dhidden_prev = whh * dz\n",
    "\n",
    "        # Add regularization since it's being added to the loss at each time step\n",
    "        #\n",
    "        # Input and hidden weights\n",
    "        dwhh += self.regularizer*whh\n",
    "        dbhh += self.regularizer*bhh\n",
    "        dwxh += self.regularizer*wxh\n",
    "        dbxh += self.regularizer*bxh\n",
    "\n",
    "        # Softmax weights\n",
    "        dws += self.regularizer*ws\n",
    "        dbs += self.regularizer*bs\n",
    "\n",
    "        # Log additional info?\n",
    "        if self.inspect:\n",
    "            self.xs, self.ys = xs, ys\n",
    "            self.dbhh = dbhh\n",
    "            self.dwhh = dwhh\n",
    "            self.dbxh = dbxh\n",
    "            self.dwxh = dwxh\n",
    "        \n",
    "        return State(loss, dwhh, dbhh, dwxh, dbxh, dws, dbs)\n",
    "    \n",
    "    def learn(self):\n",
    "        \"\"\"Learn from a minibatch of training examples\n",
    "        \n",
    "        Have the model run forward-backward prop on these examples and average the gradients\n",
    "        \n",
    "        \"\"\"\n",
    "        loss, dwhh, dbhh, dwxh, dbxh, dws, dbs = self.forward_backward_prop()\n",
    "        \n",
    "        self.gradient_check(dwhh, dbhh, dwxh, dbxh, dws, dbs)\n",
    "        \n",
    "        # Hidden and input weights\n",
    "        self.whh = self.whh - self.learning_rate*dwhh\n",
    "        self.bhh = self.bhh - self.learning_rate*dbhh\n",
    "        self.wxh = self.wxh - self.learning_rate*dwxh\n",
    "        self.bxh = self.bxh - self.learning_rate*dbxh\n",
    "        \n",
    "        # Softmax weights\n",
    "        self.ws = self.ws - self.learning_rate*dws\n",
    "        self.bs = self.bs - self.learning_rate*dbs\n",
    "        \n",
    "        # Update batch index so the next time the next batch in line is used\n",
    "        self.batch_index = (self.batch_index+1) % (self.m//self.batch_size)\n",
    "        \n",
    "        # Log additional info?\n",
    "        if self.inspect:\n",
    "            self.dwhh = dwhh\n",
    "            self.dbhh = dbhh\n",
    "            self.dwxh = dwxh\n",
    "            self.dbxh = dbxh\n",
    "            self.dws = dws\n",
    "            self.dbs = dbs\n",
    "            self.loss = loss\n",
    "    \n",
    "    def gradient_check(self, analytic_dwhh, analytic_dbhh, analytic_dwxh, analytic_dbxh, analytic_dws, analytic_dbs):\n",
    "        \"\"\"Verify gradient correctness\n",
    "        \n",
    "        The analytic dwhh, dbhh, dwxh, dbxh, dws, and dbs come from doing forward-backward\n",
    "        prop just a second ago. We numerically estimate these gradients on\n",
    "        the *same* minibatch the analytic gradients were computed from and\n",
    "        compare them to see if they are close.\n",
    "        \n",
    "        Note the same minibatch is being used because this function gets\n",
    "        called *before* the update to batch_index\n",
    "        \n",
    "        \"\"\"\n",
    "        if not self.gradient_checking:\n",
    "            return\n",
    "        \n",
    "        num_dwhh, num_dbhh, num_dwxh, num_dbxh, num_dws, num_dbs = self.numerical_gradients()\n",
    "\n",
    "        # Compute relative error\n",
    "        dwhh_error = abs(num_dwhh - analytic_dwhh) / (abs(num_dwhh) + abs(analytic_dwhh))\n",
    "        dbhh_error = abs(num_dbhh - analytic_dbhh) / (abs(num_dbhh) + abs(analytic_dbhh))\n",
    "        dwxh_error = abs(num_dwxh - analytic_dwxh) / (abs(num_dwxh) + abs(analytic_dwxh))\n",
    "        dbxh_error = abs(num_dbxh - analytic_dbxh) / (abs(num_dbxh) + abs(analytic_dbxh))\n",
    "        \n",
    "        dws_error = abs(num_dws - analytic_dws) / (abs(num_dws) + abs(analytic_dws))\n",
    "        dbs_error = abs(num_dbs - analytic_dbs) / (abs(num_dbs) + abs(analytic_dbs))\n",
    "\n",
    "        try:\n",
    "            assert(np.linalg.norm(dws_error) < 1e-5 and dwhh_error < 1e-5 and dbhh_error < 1e-5 and\n",
    "                   np.linalg.norm(dbs_error) < 1e-5 and dwxh_error < 1e-5 and dbxh_error < 1e-5)\n",
    "        except AssertionError:\n",
    "            warn('Gradient check failed!')\n",
    "            \n",
    "            warn('dwhh relative error: {}'.format(dwhh_error))\n",
    "            warn('dbhh relative error: {}'.format(dbhh_error))\n",
    "            warn('dwxh relative error: {}'.format(dwxh_error))\n",
    "            warn('dbxh relative error: {}'.format(dbxh_error))\n",
    "            \n",
    "            warn('dws relative error: {}'.format(dws_error))\n",
    "            warn('dbs relative error: {}'.format(dbs_error))\n",
    "            \n",
    "    def numerical_gradients(self):\n",
    "        \"\"\"Compute numerical gradients of f with respect to self.wh, self.bh, self.ws, and self.bs\n",
    "\n",
    "        Returns approximation for df/dwh, df/dbh, df/dws, and df/dbs\n",
    "\n",
    "        \"\"\"\n",
    "        dws, dbs = np.zeros_like(self.ws), np.zeros_like(self.bs)\n",
    "        h = np.zeros_like(self.ws)\n",
    "        step = 0.00001\n",
    "\n",
    "        # df/dws1 and df/dbs1\n",
    "        h[0] = step\n",
    "        dws[0] = (self.forward_backward_prop(ws=self.ws+h).loss - self.forward_backward_prop(ws=self.ws-h).loss) / (2*step)\n",
    "        dbs[0] = (self.forward_backward_prop(bs=self.bs+h).loss - self.forward_backward_prop(bs=self.bs-h).loss) / (2*step)\n",
    "        h[0] = 0\n",
    "\n",
    "        # df/dws1 and df/dbs1\n",
    "        h[1] = step\n",
    "        dws[1] = (self.forward_backward_prop(ws=self.ws+h).loss  -self.forward_backward_prop(ws=self.ws-h).loss) / (2*step)\n",
    "        dbs[1] = (self.forward_backward_prop(bs=self.bs+h).loss-self.forward_backward_prop(bs=self.bs-h).loss) / (2*step)\n",
    "        h[1] = 0\n",
    "        \n",
    "        # df/dwhh and df/dbhh\n",
    "        dwhh = (self.forward_backward_prop(whh=self.whh+step).loss - self.forward_backward_prop(whh=self.whh-step).loss) / (2*step)\n",
    "        dbhh = (self.forward_backward_prop(bhh=self.bhh+step).loss - self.forward_backward_prop(bhh=self.bhh-step).loss) / (2*step)\n",
    "        \n",
    "        # df/dwxh and df/dbxh\n",
    "        dwxh = (self.forward_backward_prop(wxh=self.wxh+step).loss - self.forward_backward_prop(wxh=self.wxh-step).loss) / (2*step)\n",
    "        dbxh = (self.forward_backward_prop(bxh=self.bxh+step).loss - self.forward_backward_prop(bxh=self.bxh-step).loss) / (2*step)\n",
    "        \n",
    "        return dwhh, dbhh, dwxh, dbxh, dws, dbs\n",
    "\n",
    "    @property\n",
    "    def info(self):\n",
    "        return Snapshot(str(self.xs), str(self.ys),\n",
    "                        self.whh, self.bhh, self.wxh, self.bxh, self.ws, self.bs,\n",
    "                        self.dwhh, self.dbhh, self.dwxh, self.dbxh, self.dws, self.dbs,\n",
    "                        self.scores, self.loss)"
   ]
  },
  {
   "cell_type": "markdown",
   "metadata": {},
   "source": [
    "## Start Learning!"
   ]
  },
  {
   "cell_type": "code",
   "execution_count": 5,
   "metadata": {
    "collapsed": false,
    "scrolled": true
   },
   "outputs": [],
   "source": [
    "from data.rnn import xs_train, ys_train\n",
    "\n",
    "rnn = RecurrentNeuralNetwork(xs_train, ys_train, learning_rate=0.1, regularizer=0, gradient_checking=True, inspect=True)\n",
    "\n",
    "def states(iters):\n",
    "    for _ in range(iters):\n",
    "        rnn.learn()\n",
    "        yield rnn.info\n",
    "        \n",
    "states = list(states(10))\n",
    "\n",
    "df = pd.DataFrame(states, columns=Snapshot._fields)"
   ]
  },
  {
   "cell_type": "markdown",
   "metadata": {},
   "source": [
    "### Loss"
   ]
  },
  {
   "cell_type": "code",
   "execution_count": 26,
   "metadata": {
    "collapsed": false
   },
   "outputs": [
    {
     "data": {
      "text/plain": [
       "<matplotlib.axes._subplots.AxesSubplot at 0x7f6cdfacb828>"
      ]
     },
     "execution_count": 26,
     "metadata": {},
     "output_type": "execute_result"
    },
    {
     "data": {
      "image/png": "[encoded data removed]",
      "text/plain": [
       "<matplotlib.figure.Figure at 0x7f6cdfea2a90>"
      ]
     },
     "metadata": {},
     "output_type": "display_data"
    }
   ],
   "source": [
    "df.loss.plot()"
   ]
  },
  {
   "cell_type": "code",
   "execution_count": 27,
   "metadata": {
    "collapsed": false,
    "scrolled": true
   },
   "outputs": [],
   "source": [
    "def explode():\n",
    "    for state in states:\n",
    "        scores = state.scores\n",
    "        yield [state.xs] + list(scores[0]) + list(scores[1])\n",
    "\n",
    "scores = pd.DataFrame(list(explode()), columns=['xs', 's11', 's21', 's12', 's22'])"
   ]
  },
  {
   "cell_type": "code",
   "execution_count": 28,
   "metadata": {
    "collapsed": false
   },
   "outputs": [
    {
     "data": {
      "text/plain": [
       "xs\n",
       "(-50, 2)    Axes(0.125,0.125;0.775x0.775)\n",
       "(50, 2)     Axes(0.125,0.125;0.775x0.775)\n",
       "dtype: object"
      ]
     },
     "execution_count": 28,
     "metadata": {},
     "output_type": "execute_result"
    },
    {
     "data": {
      "image/png": "[encoded data removed]",
      "text/plain": [
       "<matplotlib.figure.Figure at 0x7f6cb3df31d0>"
      ]
     },
     "metadata": {},
     "output_type": "display_data"
    },
    {
     "data": {
      "image/png": "[encoded data removed]",
      "text/plain": [
       "<matplotlib.figure.Figure at 0x7f6cb3df60b8>"
      ]
     },
     "metadata": {},
     "output_type": "display_data"
    }
   ],
   "source": [
    "%matplotlib inline\n",
    "\n",
    "scores.groupby('xs').plot()"
   ]
  },
  {
   "cell_type": "markdown",
   "metadata": {},
   "source": [
    "## How Does the Model Evolve Over Time?"
   ]
  },
  {
   "cell_type": "code",
   "execution_count": 30,
   "metadata": {
    "collapsed": false,
    "scrolled": true
   },
   "outputs": [
    {
     "data": {
      "image/png": "[encoded data removed]",
      "text/plain": [
       "<matplotlib.figure.Figure at 0x7f6cb3b5bb38>"
      ]
     },
     "metadata": {},
     "output_type": "display_data"
    }
   ],
   "source": [
    "from ipywidgets import interact, fixed\n",
    "\n",
    "@interact(xs_train=fixed(xs_train), ys_train=fixed(ys_train), iter_index=(0, len(states)-1), df=fixed(df))\n",
    "def plot(xs_train, ys_train, iter_index, df):\n",
    "    s = states[iter_index]\n",
    "    \n",
    "    rnn = RecurrentNeuralNetwork(xs_train=xs_train, ys_train=ys_train,\n",
    "                                 whh=s.whh, bhh=s.bhh, wxh=s.wxh, bxh=s.bxh, ws=s.ws, bs=s.ws)\n",
    "    rnn.batch_index = 1\n",
    "    \n",
    "    scores, predictions = rnn.predict(xs_train)\n",
    "    \n",
    "    axes = pd.DataFrame(list(scores[0]) + list(scores[1])).plot(kind='bar')\n",
    "    axes.set_ylim(-10, 10)"
   ]
  },
  {
   "cell_type": "code",
   "execution_count": 17,
   "metadata": {
    "collapsed": false
   },
   "outputs": [
    {
     "data": {
      "text/plain": [
       "([array([ 2.80843333, -4.12558044]), array([ 2.80843479, -4.12558259])],\n",
       " [0, 0])"
      ]
     },
     "execution_count": 17,
     "metadata": {},
     "output_type": "execute_result"
    }
   ],
   "source": [
    "rnn.predict(xs_train)"
   ]
  },
  {
   "cell_type": "code",
   "execution_count": 18,
   "metadata": {
    "collapsed": true
   },
   "outputs": [],
   "source": [
    "rnn.batch_index= 1"
   ]
  },
  {
   "cell_type": "code",
   "execution_count": 19,
   "metadata": {
    "collapsed": false
   },
   "outputs": [
    {
     "data": {
      "text/plain": [
       "([array([ 5.61686666, -8.25116088]), array([ 2.80853426, -4.12572872])],\n",
       " [0, 0])"
      ]
     },
     "execution_count": 19,
     "metadata": {},
     "output_type": "execute_result"
    }
   ],
   "source": [
    "rnn.predict(xs_train)"
   ]
  }
 ],
 "metadata": {
  "kernelspec": {
   "display_name": "Python 3",
   "language": "python",
   "name": "python3"
  },
  "language_info": {
   "codemirror_mode": {
    "name": "ipython",
    "version": 3
   },
   "file_extension": ".py",
   "mimetype": "text/x-python",
   "name": "python",
   "nbconvert_exporter": "python",
   "pygments_lexer": "ipython3",
   "version": "3.5.0"
  }
 },
 "nbformat": 4,
 "nbformat_minor": 0
}
