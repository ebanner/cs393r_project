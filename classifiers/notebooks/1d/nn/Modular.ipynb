{
 "cells": [
  {
   "cell_type": "markdown",
   "metadata": {},
   "source": [
    "# Modular Neural Network\n",
    "\n",
    "1D two-layer neural network with sigmoid activation unit and cross-entropy loss. Includes support for:\n",
    "\n",
    "- Minibatching\n",
    "- Optional gradient checking\n",
    "- L2 Regularization\n",
    "- Logging so you can see what the scores, probabilities, gradients, etc. were after every minibatch\n",
    "- Modular units that you can plug together"
   ]
  },
  {
   "cell_type": "code",
   "execution_count": 1,
   "metadata": {
    "collapsed": false
   },
   "outputs": [],
   "source": [
    "from lib.neural_net import Model, State\n",
    "from lib.modular_nn import Affine, Sigmoid, Softmax, CrossEntropy\n",
    "\n",
    "class NeuralNetwork:\n",
    "    \"\"\"Initialize model parameters\n",
    "    \n",
    "    Additionally calculate batch index so we can use minibatches with each training iteration\n",
    "    \n",
    "    If you want to inspect the scores after each training example, the pass inspect. If you do\n",
    "    this then you better set a batch_size to 1. Otherwise you'll only ever get the scores of\n",
    "    the last training example in the minibatch\n",
    "    \n",
    "    \"\"\"\n",
    "    def __init__(self, xs_train, ys_train, wh=None, bh=None, ws=None, bs=None,\n",
    "                 learning_rate=0.001, regularizer=1., batch_size=None,\n",
    "                gradient_checking=False, inspect=False):\n",
    "        \"\"\"Initializes modular neural network model\n",
    "        \n",
    "        Parameters\n",
    "        ----------\n",
    "        xs_train : list of inputs\n",
    "        ys_train : list of labels\n",
    "        wh : weight of hidden layer\n",
    "        bh : bias term of hidden layer\n",
    "        ws : list (length 2) of softmax class weights\n",
    "        bs : list (length 2) of softmax class biases\n",
    "        learning_rate : learning rate constant\n",
    "        regularizer : regularization constant\n",
    "        batch_size : size of minibatch\n",
    "        gradient_checking : boolean whether to perform gradient checking during training\n",
    "        inspect : boolean whether to log all data after every learning session from a training example\n",
    "        \n",
    "        \"\"\"\n",
    "        self.m = len(xs_train)\n",
    "        \n",
    "        self.xs_train, self.ys_train = xs_train, ys_train\n",
    "        \n",
    "        # Randomly initialize weights and biases\n",
    "        self.wh, self.bh = np.random.randn(), np.random.randn()\n",
    "        self.ws = np.array([np.random.randn(), np.random.randn()])\n",
    "        self.bs = np.array([np.random.randn(), np.random.randn()])\n",
    "        \n",
    "        self.learning_rate = learning_rate\n",
    "        self.regularizer = regularizer\n",
    "        \n",
    "        self.batch_size = self.m if not batch_size else batch_size\n",
    "        self.batch_index = 0\n",
    "        \n",
    "        self.gradient_checking = gradient_checking\n",
    "        self.inspect = inspect\n",
    "        \n",
    "        # Info from the *last* training example that was used to learn from\n",
    "        self.x, self.y = None, None\n",
    "        self.z, self.hidden = None, None\n",
    "        self.scores, self.dscores = None, None\n",
    "        self.probs = None\n",
    "        self.dws, self.dbs = None, None\n",
    "        self.dhidden, self.dz = None, None\n",
    "        self.dwh, self.dbh = None, None\n",
    "        self.loss = None\n",
    "        \n",
    "    def predict(self, x):\n",
    "        \"\"\"Return the probability of x belonging to either class\"\"\"\n",
    "        \n",
    "        hidden = sigmoid(self.wh*x + self.bh)\n",
    "        scores = np.array([hidden,hidden])*self.ws + self.bs\n",
    "        \n",
    "        return hidden, scores, softmax(scores)\n",
    "        \n",
    "    def forward_backward_prop(self, wh=None, bh=None, ws=None, bs=None, predict=False):\n",
    "        \"\"\"Perform forward and backward prop over a minibatch of training examples\n",
    "        \n",
    "        Returns loss and gradients\n",
    "        \n",
    "        \"\"\"\n",
    "        wh = self.wh if not wh else wh\n",
    "        bh = self.bh if not bh else bh\n",
    "        ws = self.ws if not type(ws) == np.ndarray else ws\n",
    "        bs = self.bs if not type(bs) == np.ndarray else bs\n",
    "        \n",
    "        # Two-layer network architecture\n",
    "        affine = Affine()\n",
    "        sigmoid = Sigmoid()\n",
    "        affine_1, affine_2 = Affine(), Affine()\n",
    "        softmax = Softmax()\n",
    "        cross_entropy = CrossEntropy()\n",
    "        \n",
    "        loss, dwh, dbh, dws, dbs = 0., 0., 0., np.array([0.,0.]), np.array([0.,0.])\n",
    "        lower, upper = self.batch_index*self.batch_size, (self.batch_index+1)*self.batch_size\n",
    "        for x, y in zip(self.xs_train[lower:upper], self.ys_train[lower:upper]):            \n",
    "            # Forward propagation\n",
    "            z = affine.forward(x, wh, bh)\n",
    "            hidden = sigmoid.forward(z)\n",
    "            scores = affine_1.forward(hidden, ws[0], bs[0]), affine_2.forward(hidden, ws[1], bs[1])\n",
    "            probs = softmax.forward(scores)\n",
    "\n",
    "            # Accumulate performance loss and regularization loss\n",
    "            loss += cross_entropy.forward(probs, y)\n",
    "\n",
    "            # Backpropagate to accumulate dbs, dws, dbh, and dwh\n",
    "            dloss = 1\n",
    "            dprobs = cross_entropy.backward(dloss)\n",
    "            dscores = np.array(softmax.backward(dprobs))\n",
    "            dh1, dw, db = affine_1.backward(dscores[0])\n",
    "            dws[0] += dw\n",
    "            dbs[0] += db\n",
    "            \n",
    "            dh2, dw, db = affine_2.backward(dscores[1])\n",
    "            dws[1] += dw\n",
    "            dbs[1] += db\n",
    "            \n",
    "            dhidden = dh1 + dh2\n",
    "            dz = sigmoid.backward(dhidden)\n",
    "            \n",
    "            dx, dw, db = affine.backward(dz)\n",
    "            dwh += dw\n",
    "            dbh += db\n",
    "            \n",
    "            # Add regularization\n",
    "            loss += self.regularizer * 0.5*(wh**2 + bh**2 + (ws**2).sum() + (bs**2).sum())\n",
    "            \n",
    "            dwh += self.regularizer*wh\n",
    "            dbh += self.regularizer*bh\n",
    "            dws += self.regularizer*ws\n",
    "            dbs += self.regularizer*bs\n",
    "            \n",
    "            # Log additional info?\n",
    "            if self.inspect:\n",
    "                self.x, self.y = x, y\n",
    "                self.z = z\n",
    "                self.hidden = hidden\n",
    "                self.scores, self.dscores = scores, dscores\n",
    "                self.dscores[y] += 1\n",
    "                self.probs = probs\n",
    "                self.dhidden = dhidden\n",
    "                self.dz = dz\n",
    "                self.dbh = dbh\n",
    "                self.dwh = dwh\n",
    "        \n",
    "        return State(loss/self.m, dwh/self.m, dbh/self.m, dws/self.m, dbs/self.m)\n",
    "    \n",
    "    def learn(self):\n",
    "        \"\"\"Learn from a minibatch of training examples\n",
    "        \n",
    "        Have the model run forward-backward prop on these examples and average the gradients\n",
    "        \n",
    "        \"\"\"\n",
    "        loss, dwh, dbh, dws, dbs = self.forward_backward_prop()\n",
    "        \n",
    "        self.gradient_check(dwh, dbh, dws, dbs)\n",
    "        \n",
    "        self.wh = self.wh - self.learning_rate*dwh\n",
    "        self.bh = self.bh - self.learning_rate*dbh\n",
    "        self.ws = self.ws - self.learning_rate*dws\n",
    "        self.bs = self.bs - self.learning_rate*dbs\n",
    "        \n",
    "        # Update batch index so the next time the next batch in line is used\n",
    "        self.batch_index = (self.batch_index+1) % (self.m//self.batch_size)\n",
    "        \n",
    "        # Log additional info?\n",
    "        if self.inspect:\n",
    "            self.dwh = dwh\n",
    "            self.dbh = dbh\n",
    "            self.dws = dws\n",
    "            self.dbs = dbs\n",
    "            self.loss = loss\n",
    "    \n",
    "    def gradient_check(self, analytic_dwh, analytic_dbh, analytic_dws, analytic_dbs):\n",
    "        \"\"\"Verify gradient correctness\n",
    "        \n",
    "        The analytic dwh, dbh, dws, and dbs come from doing forward-backward\n",
    "        prop just a second ago. We numerically estimate these gradients on\n",
    "        the *same* minibatch the analytic gradients were computed from and\n",
    "        compare them to see if they are close.\n",
    "        \n",
    "        Note the same minibatch is being used because this function gets\n",
    "        called *before* the update to batch_index\n",
    "        \n",
    "        \"\"\"\n",
    "        if not self.gradient_checking:\n",
    "            return\n",
    "        \n",
    "        numerical_dwh, numerical_dbh, numerical_dws, numerical_dbs = self.numerical_gradients()\n",
    "\n",
    "        # Compute relative error\n",
    "        dwh_error = abs(numerical_dwh - analytic_dwh) / (abs(numerical_dwh) + abs(analytic_dwh))\n",
    "        dbh_error = abs(numerical_dbh - analytic_dbh) / (abs(numerical_dbh) + abs(analytic_dbh))\n",
    "        dws_error = abs(numerical_dws - analytic_dws) / (abs(numerical_dws) + abs(analytic_dws))\n",
    "        dbs_error = abs(numerical_dbs - analytic_dbs) / (abs(numerical_dbs) + abs(analytic_dbs))\n",
    "\n",
    "        try:\n",
    "            assert(np.linalg.norm(dws_error) < 1e-6 and\n",
    "                   np.linalg.norm(dbs_error) < 1e-6 and dwh_error < 1e-6 and dbh_error < 1e-6)\n",
    "        except AssertionError:\n",
    "            warn('Gradient check failed!')\n",
    "            warn('dwh relative error: {}'.format(dwh_error))\n",
    "            warn('dbh relative error: {}'.format(dbh_error))\n",
    "            warn('dws relative error: {}'.format(dws_error))\n",
    "            warn('dbs relative error: {}'.format(dbs_error))\n",
    "            \n",
    "    def numerical_gradients(self):\n",
    "        \"\"\"Compute numerical gradients of f with respect to self.wh, self.bh, self.ws, and self.bs\n",
    "\n",
    "        Returns approximation for df/dwh, df/dbh, df/dws, and df/dbs\n",
    "\n",
    "        \"\"\"\n",
    "        dwh, dbh, dws, dbs = 0., 0., np.zeros_like(self.ws), np.zeros_like(self.bs)\n",
    "        h = np.zeros_like(self.ws)\n",
    "        step = 0.00001\n",
    "        wh, bh, ws, bs = self.wh, self.bh, self.ws, self.bs\n",
    "\n",
    "        # df/dw1 and df/db1\n",
    "        h[0] = step\n",
    "        dws[0] = (self.forward_backward_prop(wh, bh, ws+h, bs).loss  -self.forward_backward_prop(wh, bh, ws-h, bs).loss)   / (2*step)\n",
    "        dbs[0] = (self.forward_backward_prop(wh, bh, ws,   bs+h).loss-self.forward_backward_prop(wh, bh, ws,   bs-h).loss) / (2*step)\n",
    "        h[0] = 0\n",
    "\n",
    "        # df/dw1 and df/db1\n",
    "        h[1] = step\n",
    "        dws[1] = (self.forward_backward_prop(wh, bh, ws+h, bs).loss  -self.forward_backward_prop(wh, bh, ws-h, bs).loss)   / (2*step)\n",
    "        dbs[1] = (self.forward_backward_prop(wh, bh, ws,   bs+h).loss-self.forward_backward_prop(wh, bh, ws,   bs-h).loss) / (2*step)\n",
    "        h[1] = 0\n",
    "        \n",
    "        # df/dwh and df/dbh\n",
    "        dwh = (self.forward_backward_prop(wh+step, bh, ws, bs).loss - self.forward_backward_prop(wh-step, bh, ws, bs).loss) / (2*step)\n",
    "        dbh = (self.forward_backward_prop(wh, bh+step, ws, bs).loss - self.forward_backward_prop(wh, bh-step, ws, bs).loss) / (2*step)\n",
    "\n",
    "        return dwh, dbh, dws, dbs\n",
    "\n",
    "    @property\n",
    "    def info(self):\n",
    "        return Model(self.x, self.y,\n",
    "                     self.wh, self.bh, self.z,\n",
    "                     self.ws[0], self.bs[0], self.scores[0], self.ws[1], self.bs[1], self.scores[1],\n",
    "                     self.probs[0], self.probs[1],\n",
    "                     self.dscores[0], self.dscores[1],\n",
    "                     self.dbs[0], self.dws[0],\n",
    "                     self.dbs[1], self.dws[1],\n",
    "                     self.loss)"
   ]
  },
  {
   "cell_type": "markdown",
   "metadata": {},
   "source": [
    "## Start Learning!"
   ]
  },
  {
   "cell_type": "code",
   "execution_count": 18,
   "metadata": {
    "collapsed": false,
    "scrolled": true
   },
   "outputs": [],
   "source": [
    "from data.softmax import xs_train, ys_train\n",
    "\n",
    "sm = NeuralNetwork(xs_train, ys_train, learning_rate=0.1, regularizer=.01, batch_size=1, gradient_checking=False, inspect=True)\n",
    "\n",
    "def states(iters):\n",
    "    for _ in range(iters):\n",
    "        sm.learn()\n",
    "        yield sm.info\n",
    "        \n",
    "states = list(states(500))"
   ]
  },
  {
   "cell_type": "code",
   "execution_count": 19,
   "metadata": {
    "collapsed": false
   },
   "outputs": [
    {
     "data": {
      "text/plain": [
       "x   y\n",
       "-1  0    Axes(0.125,0.125;0.775x0.775)\n",
       " 1  1    Axes(0.125,0.125;0.775x0.775)\n",
       "Name: loss, dtype: object"
      ]
     },
     "execution_count": 19,
     "metadata": {},
     "output_type": "execute_result"
    },
    {
     "data": {
      "image/png": "[encoded data removed]",
      "text/plain": [
       "<matplotlib.figure.Figure at 0x7f7a55087278>"
      ]
     },
     "metadata": {},
     "output_type": "display_data"
    }
   ],
   "source": [
    "df = pd.DataFrame(states, columns=Model._fields)\n",
    "\n",
    "df.groupby(['x', 'y'])['loss'].plot()"
   ]
  },
  {
   "cell_type": "markdown",
   "metadata": {},
   "source": [
    "## How do the Scores Change over Time?"
   ]
  },
  {
   "cell_type": "code",
   "execution_count": 21,
   "metadata": {
    "collapsed": false
   },
   "outputs": [
    {
     "data": {
      "image/png": "[encoded data removed]",
      "text/plain": [
       "<matplotlib.figure.Figure at 0x7f7a55193668>"
      ]
     },
     "metadata": {},
     "output_type": "display_data"
    },
    {
     "data": {
      "image/png": "[encoded data removed]",
      "text/plain": [
       "<matplotlib.figure.Figure at 0x7f7a5518ac18>"
      ]
     },
     "metadata": {},
     "output_type": "display_data"
    }
   ],
   "source": [
    "axeses = df.groupby(['x', 'y'])[['score1', 'score2']].plot()\n",
    "for axes in axeses:\n",
    "    axes.xaxis.grid(b=True)\n",
    "    axes.yaxis.grid(b=True)"
   ]
  },
  {
   "cell_type": "markdown",
   "metadata": {},
   "source": [
    "## How Does the Model Evolve Over Time?"
   ]
  },
  {
   "cell_type": "code",
   "execution_count": 22,
   "metadata": {
    "collapsed": false,
    "scrolled": true
   },
   "outputs": [
    {
     "data": {
      "image/png": "[encoded data removed]",
      "text/plain": [
       "<matplotlib.figure.Figure at 0x7f7a54bf88d0>"
      ]
     },
     "metadata": {},
     "output_type": "display_data"
    }
   ],
   "source": [
    "from lib.neural_net import sigmoid_inverse\n",
    "from ipywidgets import interact, fixed\n",
    "\n",
    "@interact(xs_train=fixed(xs_train), ys_train=fixed(ys_train), view_index=(0, len(states)), states=fixed(states))\n",
    "def plot(xs_train, ys_train, view_index, states):\n",
    "    state = states[view_index]\n",
    "    \n",
    "    # Get data into suitable form for plotting\n",
    "    positives, negatives = xs_train[:len(xs_train)//2], xs_train[len(xs_train)//2:]\n",
    "    df1 = pd.DataFrame({'positives': positives, 'negatives': negatives, 'zeros': np.zeros_like(positives)})\n",
    "    \n",
    "    # Solve for the decision boundary\n",
    "    decision = (sigmoid_inverse((state.b2-state.b1)/(state.w1-state.w2)) - state.bh) / state.wh\n",
    "    \n",
    "    ys = np.linspace(-.001,.001)\n",
    "    df2 = pd.DataFrame({'x': [decision], 'y': [0]})\n",
    "    \n",
    "    axes = df2.plot(kind='scatter', x='x', y='y', color='g', marker='|', s=10000)\n",
    "    axes = df1.plot(ax=axes, kind='scatter', x='positives', y='zeros', color='r', marker='+')\n",
    "    df1.plot(ax=axes, kind='scatter', x='negatives', y='zeros', color='b', marker='+')"
   ]
  }
 ],
 "metadata": {
  "kernelspec": {
   "display_name": "Python 3",
   "language": "python",
   "name": "python3"
  },
  "language_info": {
   "codemirror_mode": {
    "name": "ipython",
    "version": 3
   },
   "file_extension": ".py",
   "mimetype": "text/x-python",
   "name": "python",
   "nbconvert_exporter": "python",
   "pygments_lexer": "ipython3",
   "version": "3.5.0"
  }
 },
 "nbformat": 4,
 "nbformat_minor": 0
}
