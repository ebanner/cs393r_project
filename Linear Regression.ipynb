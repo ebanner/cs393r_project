{
 "cells": [
  {
   "cell_type": "markdown",
   "metadata": {},
   "source": [
    "# Linear Regression\n",
    "\n",
    "Simple 1D linear regression classifier\n",
    "\n",
    "- Fits a single training example"
   ]
  },
  {
   "cell_type": "code",
   "execution_count": 42,
   "metadata": {
    "collapsed": true
   },
   "outputs": [],
   "source": [
    "x = 3\n",
    "w = 1\n",
    "y = 100"
   ]
  },
  {
   "cell_type": "code",
   "execution_count": 74,
   "metadata": {
    "collapsed": false
   },
   "outputs": [],
   "source": [
    "from collections import namedtuple\n",
    "\n",
    "Model = namedtuple('Model', ['x', 'w', 'y_hat', 'y_true', 'perf', 'dperf', 'dy_hat', 'dw', 'dx'])\n",
    "\n",
    "def lin_reg(x=1, w=1, y_true=1, learning_rate=0.01):\n",
    "    \"\"\"Run gradient descent on a single training example\n",
    "    \n",
    "    Yield successive states of the model\n",
    "    \n",
    "    \"\"\"\n",
    "    while True:\n",
    "        # Forward Pass (prediction)\n",
    "        y_hat = w * x\n",
    "\n",
    "        # Compute loss (negate loss so we can think of maximizing output of the network)\n",
    "        perf = -0.5 * (y_true-y_hat)**2\n",
    "\n",
    "        # Backpropagate to find dw and dx\n",
    "        dperf = 1\n",
    "        dy_hat = (y_true-y_hat) * dperf\n",
    "        dw, dx = x * dy_hat, w * dy_hat\n",
    "        \n",
    "        yield Model(x, w, y_hat, y_true, perf, dperf, dy_hat, dw, dx)\n",
    "        \n",
    "        # Gradient ascent\n",
    "        w += learning_rate*dw"
   ]
  },
  {
   "cell_type": "markdown",
   "metadata": {},
   "source": [
    "## Run the Model for a Certain Amount of Time Steps"
   ]
  },
  {
   "cell_type": "code",
   "execution_count": 85,
   "metadata": {
    "collapsed": false
   },
   "outputs": [
    {
     "data": {
      "text/plain": [
       "<matplotlib.axes._subplots.AxesSubplot at 0x7f9dc539ba20>"
      ]
     },
     "execution_count": 85,
     "metadata": {},
     "output_type": "execute_result"
    },
    {
     "data": {
      "image/png": "[encoded data removed]",
      "text/plain": [
       "<matplotlib.figure.Figure at 0x7f9dc5394860>"
      ]
     },
     "metadata": {},
     "output_type": "display_data"
    }
   ],
   "source": [
    "step = lin_reg(x=x, w=w, y_true=y)\n",
    "\n",
    "pd.DataFrame(next(step).perf for _ in range(25)).plot()"
   ]
  },
  {
   "cell_type": "markdown",
   "metadata": {},
   "source": [
    "## Performance Values and Derivatives for `(x=3,y=100)`"
   ]
  },
  {
   "cell_type": "code",
   "execution_count": 35,
   "metadata": {
    "collapsed": false
   },
   "outputs": [
    {
     "data": {
      "text/plain": [
       "<matplotlib.axes._subplots.AxesSubplot at 0x7f9da8c65780>"
      ]
     },
     "execution_count": 35,
     "metadata": {},
     "output_type": "execute_result"
    },
    {
     "data": {
      "image/png": "[encoded data removed]",
      "text/plain": [
       "<matplotlib.figure.Figure at 0x7f9da8c24e80>"
      ]
     },
     "metadata": {},
     "output_type": "display_data"
    }
   ],
   "source": [
    "%matplotlib inline\n",
    "\n",
    "import numpy as np\n",
    "import pandas as pd\n",
    "\n",
    "ws = np.linspace(20, 50)\n",
    "pd.DataFrame({\n",
    "        'performance': -0.5 * (100-ws*x)**2,\n",
    "        'dw': 100-ws*x}, index=ws).plot()"
   ]
  },
  {
   "cell_type": "markdown",
   "metadata": {},
   "source": [
    "## Finite Difference Gradient Check"
   ]
  },
  {
   "cell_type": "code",
   "execution_count": 46,
   "metadata": {
    "collapsed": false,
    "scrolled": true
   },
   "outputs": [],
   "source": [
    "def num_grads():\n",
    "    \"\"\"Generate a list of numerical gradients of each w in ws\"\"\"\n",
    "    \n",
    "    delta_w = 0.0001\n",
    "    \n",
    "    for w in ws:\n",
    "        fwmdw = -0.5 * (100 - (w-delta_w)*x)**2\n",
    "        fwpdw = -0.5 * (100 - (w+delta_w)*x)**2\n",
    "        \n",
    "        yield (fwpdw-fwmdw) / (2*delta_w)\n",
    "        \n",
    "num_grads = np.array(list(num_grads()))"
   ]
  },
  {
   "cell_type": "code",
   "execution_count": 53,
   "metadata": {
    "collapsed": false
   },
   "outputs": [],
   "source": [
    "def analytic_grads():\n",
    "    \"\"\"Return the analytic gradient for each w in ws\"\"\"\n",
    "    \n",
    "    for w in ws:\n",
    "        yield next(lin_reg(x=x, w=w, y_true=100)).dw\n",
    "        \n",
    "analytic_grads = np.array(list(analytic_grads()))"
   ]
  },
  {
   "cell_type": "markdown",
   "metadata": {},
   "source": [
    "## Gradient Comparisons"
   ]
  },
  {
   "cell_type": "code",
   "execution_count": 57,
   "metadata": {
    "collapsed": false
   },
   "outputs": [
    {
     "data": {
      "text/plain": [
       "0   -1.414009e-09\n",
       "dtype: float64"
      ]
     },
     "execution_count": 57,
     "metadata": {},
     "output_type": "execute_result"
    }
   ],
   "source": [
    "pd.DataFrame(num_grads - analytic_grads, index=ws).mean()"
   ]
  }
 ],
 "metadata": {
  "kernelspec": {
   "display_name": "Python 3",
   "language": "python",
   "name": "python3"
  },
  "language_info": {
   "codemirror_mode": {
    "name": "ipython",
    "version": 3
   },
   "file_extension": ".py",
   "mimetype": "text/x-python",
   "name": "python",
   "nbconvert_exporter": "python",
   "pygments_lexer": "ipython3",
   "version": "3.5.0"
  }
 },
 "nbformat": 4,
 "nbformat_minor": 0
}
