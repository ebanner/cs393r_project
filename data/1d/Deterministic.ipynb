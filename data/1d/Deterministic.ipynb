{
 "cells": [
  {
   "cell_type": "markdown",
   "metadata": {},
   "source": [
    "# Generate Training Data\n",
    "\n",
    "In order to train the discriminative models, we need training data. To this end, we create synthetic training data via a simple simulation of kicks on goal. The algorithm works as follows:\n",
    "\n",
    "- Sample a position (i.e. $x \\in [0, 1]$ and $y \\in [0, 2]$)\n",
    "- Sample from one of the possible ranges `{wide-left`, `block-left`, `block-center`, `block-right`, `wide-right}`\n",
    "- Sample from one the possible powers `{weak`, `strong}`\n",
    "- Kick!\n",
    "- Record each sample"
   ]
  },
  {
   "cell_type": "markdown",
   "metadata": {},
   "source": [
    "### 1D Deterministic Data Generator"
   ]
  },
  {
   "cell_type": "code",
   "execution_count": 7,
   "metadata": {
    "collapsed": false
   },
   "outputs": [
    {
     "name": "stderr",
     "output_type": "stream",
     "text": [
      "/home/ebanner/.anaconda/envs/py35/lib/python3.5/site-packages/matplotlib/collections.py:590: FutureWarning: elementwise comparison failed; returning scalar instead, but in the future will perform elementwise comparison\n",
      "  if self._edgecolors == str('face'):\n"
     ]
    }
   ],
   "source": [
    "TIME_STEPS = 200\n",
    "DECAY = .996"
   ]
  },
  {
   "cell_type": "code",
   "execution_count": 8,
   "metadata": {
    "collapsed": false
   },
   "outputs": [
    {
     "data": {
      "text/plain": [
       "label\n",
       "0    1200\n",
       "1    1800\n",
       "dtype: int64"
      ]
     },
     "execution_count": 8,
     "metadata": {},
     "output_type": "execute_result"
    }
   ],
   "source": [
    "import math\n",
    "import random\n",
    "\n",
    "import itertools\n",
    "from collections import namedtuple\n",
    "\n",
    "State = namedtuple('State', ['shot_number', 'pos', 'vel', 'label'])\n",
    "World = namedtuple('World', ['goal', 'end'])\n",
    "\n",
    "def data_generator(num_starts=3, num_ends=5, time_steps=10, decay=.8):\n",
    "    \"\"\"Generate data from a fixed set of grid points\n",
    "    \n",
    "    Parameters\n",
    "    ----------\n",
    "    num_starts : int\n",
    "    The number of starting points you want\n",
    "    \n",
    "    num_ends : int\n",
    "    The number of ending points you want\n",
    "    \n",
    "    time_steps : int\n",
    "    The number of time steps for the ball to get to the robot. This number should be calculated based on\n",
    "    the assumption that we're operating at 50 Hz. A reasonable number of time steps would thus be 100 (2 seconds)\n",
    "    \n",
    "    decay : float\n",
    "    The constant decay rate of the velocity of the ball\n",
    "    \n",
    "    \"\"\"    \n",
    "    # Starting and ending points\n",
    "    starts, ends = np.linspace(0, 1, num_starts), np.linspace(1, 3, num_ends)\n",
    "    \n",
    "    for shot_number, (start, end) in enumerate(itertools.product(starts, ends)):\n",
    "        label = 1 if end >= 2 else 0\n",
    "        \n",
    "        # Starting velocities to reach the goal\n",
    "        c = (1-decay) / (1-decay**(time_steps-1))\n",
    "        dstart = c * (end-start)\n",
    "\n",
    "        # Calculate how far you've traveled from the start at each time_step\n",
    "        decays = np.array([decay**pow for pow in range(time_steps)])\n",
    "\n",
    "        # Velocity at each time step\n",
    "        velocities = decays * dstart\n",
    "\n",
    "        # Distance traveled at each time step\n",
    "        deltas = np.cumsum(velocities)\n",
    "\n",
    "        # Compute the actual points given distances\n",
    "        positions = start + deltas\n",
    "        positions = np.append([start], positions[:-1])\n",
    "        \n",
    "        # Yield the points one by one\n",
    "        for position, velocity in zip(positions, velocities):\n",
    "            yield State(shot_number, position, velocity, label)\n",
    "\n",
    "\n",
    "# Generate shot data\n",
    "data_points = data_generator(num_starts=3, num_ends=5, time_steps=TIME_STEPS, decay=DECAY)\n",
    "data_points = list(data_points)\n",
    "\n",
    "# Plot it\n",
    "%matplotlib qt\n",
    "df = pd.DataFrame(data_points, columns=State._fields)\n",
    "labels = df['label']\n",
    "colormap = np.array(['r', 'b'])\n",
    "axes = df.plot(kind='scatter', x='pos', y='shot_number', c=colormap[labels], s=0)\n",
    "axes.quiver(df['pos'], df['shot_number'], df['vel'], np.zeros_like(df['vel']), color=colormap[labels], scale_units='xy', angles='xy', scale=2.5, width=.0022)\n",
    "\n",
    "df.groupby('label').size()"
   ]
  },
  {
   "cell_type": "markdown",
   "metadata": {},
   "source": [
    "### Filter Away Invisible Points"
   ]
  },
  {
   "cell_type": "code",
   "execution_count": 9,
   "metadata": {
    "collapsed": false
   },
   "outputs": [
    {
     "name": "stderr",
     "output_type": "stream",
     "text": [
      "/home/ebanner/.anaconda/envs/py35/lib/python3.5/site-packages/matplotlib/collections.py:590: FutureWarning: elementwise comparison failed; returning scalar instead, but in the future will perform elementwise comparison\n",
      "  if self._edgecolors == str('face'):\n"
     ]
    },
    {
     "data": {
      "text/plain": [
       "label\n",
       "0    1200\n",
       "1    1286\n",
       "dtype: int64"
      ]
     },
     "execution_count": 9,
     "metadata": {},
     "output_type": "execute_result"
    }
   ],
   "source": [
    "data_points = [data_point for data_point in data_points if data_point.pos <= 2]\n",
    "\n",
    "data_points_1d = pd.DataFrame(data_points, columns=State._fields)\n",
    " \n",
    "data_points_1d.groupby('label').size()"
   ]
  },
  {
   "cell_type": "markdown",
   "metadata": {},
   "source": [
    "### Restore Class Balance"
   ]
  },
  {
   "cell_type": "code",
   "execution_count": 10,
   "metadata": {
    "collapsed": false,
    "scrolled": true
   },
   "outputs": [
    {
     "data": {
      "text/plain": [
       "<matplotlib.quiver.Quiver at 0x7f57aac36c88>"
      ]
     },
     "execution_count": 10,
     "metadata": {},
     "output_type": "execute_result"
    }
   ],
   "source": [
    "groups = data_points_1d.groupby('label')\n",
    "max_size = groups.size().min()\n",
    "\n",
    "def filter_down(group):\n",
    "    \"\"\"Filters down a pandas groupby object to a specified number\"\"\"\n",
    "    \n",
    "    size = len(group)\n",
    "    mask = np.full(size, False, bool)\n",
    "    lucky_indices = np.random.choice(size, max_size, replace=False)\n",
    "    mask[lucky_indices] = True\n",
    "    \n",
    "    return group[mask]\n",
    "\n",
    "balanced_data_1d = groups.apply(filter_down)\n",
    "df = balanced_data_1d\n",
    "\n",
    "# Plot it\n",
    "labels = df['label']\n",
    "colormap = np.array(['r', 'b'])\n",
    "axes = df.plot(kind='scatter', x='pos', y='shot_number', c=colormap[labels], s=0)\n",
    "axes.quiver(df['pos'], df['shot_number'], df['vel'], np.zeros_like(df['vel']), color=colormap[labels], scale_units='xy', angles='xy', scale=2.5, width=.0022)"
   ]
  },
  {
   "cell_type": "code",
   "execution_count": 11,
   "metadata": {
    "collapsed": false
   },
   "outputs": [
    {
     "name": "stdout",
     "output_type": "stream",
     "text": [
      "Stored 'data_1d' (DataFrame)\n"
     ]
    }
   ],
   "source": [
    "data_1d = balanced_data_1d\n",
    "\n",
    "%store data_1d"
   ]
  }
 ],
 "metadata": {
  "kernelspec": {
   "display_name": "Python 3",
   "language": "python",
   "name": "python3"
  },
  "language_info": {
   "codemirror_mode": {
    "name": "ipython",
    "version": 3
   },
   "file_extension": ".py",
   "mimetype": "text/x-python",
   "name": "python",
   "nbconvert_exporter": "python",
   "pygments_lexer": "ipython3",
   "version": "3.5.0"
  }
 },
 "nbformat": 4,
 "nbformat_minor": 0
}
