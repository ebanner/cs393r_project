{
 "cells": [
  {
   "cell_type": "markdown",
   "metadata": {},
   "source": [
    "# Generate Training Data for RNN\n",
    "\n",
    "- Pad zeros in between each shot\n",
    "    - Give it another class label?\n",
    "- Add smooth transitions between shots\n",
    "    - Shoot to next location?"
   ]
  },
  {
   "cell_type": "markdown",
   "metadata": {},
   "source": [
    "### 1D Deterministic Data Generator"
   ]
  },
  {
   "cell_type": "code",
   "execution_count": 11,
   "metadata": {
    "collapsed": false
   },
   "outputs": [],
   "source": [
    "TIME_STEPS = 10\n",
    "DECAY = .8\n",
    "NUM_BETWEEN = 0\n",
    "\n",
    "NUM_STARTS = 5\n",
    "NUM_ENDS = 5"
   ]
  },
  {
   "cell_type": "code",
   "execution_count": 12,
   "metadata": {
    "collapsed": false
   },
   "outputs": [
    {
     "data": {
      "text/plain": [
       "label\n",
       "0    100\n",
       "1    150\n",
       "dtype: int64"
      ]
     },
     "execution_count": 12,
     "metadata": {},
     "output_type": "execute_result"
    },
    {
     "name": "stderr",
     "output_type": "stream",
     "text": [
      "/home/ebanner/.anaconda/envs/py35/lib/python3.5/site-packages/matplotlib/collections.py:590: FutureWarning: elementwise comparison failed; returning scalar instead, but in the future will perform elementwise comparison\n",
      "  if self._edgecolors == str('face'):\n"
     ]
    },
    {
     "data": {
      "image/png": "[encoded data removed]",
      "text/plain": [
       "<matplotlib.figure.Figure at 0x7f13d44c9ac8>"
      ]
     },
     "metadata": {},
     "output_type": "display_data"
    }
   ],
   "source": [
    "import math\n",
    "import random\n",
    "\n",
    "import itertools\n",
    "from collections import namedtuple\n",
    "\n",
    "State = namedtuple('State', ['shot_number', 'pos', 'vel', 'label'])\n",
    "World = namedtuple('World', ['goal', 'end'])\n",
    "\n",
    "def data_generator(num_starts=3, num_ends=5, time_steps=10, decay=.8, num_between=5):\n",
    "    \"\"\"Generate data from a fixed set of grid points\n",
    "    \n",
    "    Parameters\n",
    "    ----------\n",
    "    num_starts : int\n",
    "    The number of starting points you want\n",
    "    \n",
    "    num_ends : int\n",
    "    The number of ending points you want\n",
    "    \n",
    "    time_steps : int\n",
    "    The number of time steps for the ball to get to the robot. This number should be calculated based on\n",
    "    the assumption that we're operating at 50 Hz. A reasonable number of time steps would thus be 100 (2 seconds)\n",
    "    \n",
    "    decay : float\n",
    "    The constant decay rate of the velocity of the ball\n",
    "    \n",
    "    \"\"\"    \n",
    "    # Starting and ending points\n",
    "    starts, ends = np.linspace(0, 1, num_starts), np.linspace(1, 3, num_ends)\n",
    "    \n",
    "    shot_number = 0\n",
    "    for start, end in itertools.product(starts, ends):\n",
    "        label = 1 if end >= 2 else 0\n",
    "        \n",
    "        # Starting velocities to reach the goal\n",
    "        c = (1-decay) / (1-decay**(time_steps-1))\n",
    "        dstart = c * (end-start)\n",
    "\n",
    "        # Calculate how far you've traveled from the start at each time_step\n",
    "        decays = np.array([decay**pow for pow in range(time_steps)])\n",
    "\n",
    "        # Velocity at each time step\n",
    "        velocities = decays * dstart\n",
    "\n",
    "        # Distance traveled at each time step\n",
    "        deltas = np.cumsum(velocities)\n",
    "\n",
    "        # Compute the actual points given distances\n",
    "        positions = start + deltas\n",
    "        positions = np.append([start], positions[:-1])\n",
    "        \n",
    "        # Yield the points one by one\n",
    "        for position, velocity in zip(positions, velocities):\n",
    "            yield State(shot_number, position, velocity, label)\n",
    "            \n",
    "        # Yield several data points where there is *no* ball visible in order to let the net to \"reset\" its state\n",
    "        for _ in range(num_between):\n",
    "            yield State(shot_number, 3, 0, 2)\n",
    "                                         \n",
    "#         # Yield the shot in reverse to help with transitions\n",
    "#         for position, velocity in zip(reversed(positions), reversed([0] + velocities[:-1])):\n",
    "#             yield State(shot_number+1, position, -velocity, 0)\n",
    "            \n",
    "        shot_number += 1\n",
    "\n",
    "\n",
    "# Generate shot data\n",
    "data_points = data_generator(num_starts=NUM_STARTS, num_ends=NUM_ENDS, time_steps=TIME_STEPS, decay=DECAY, num_between=NUM_BETWEEN)\n",
    "data_points = list(data_points)\n",
    "\n",
    "# Plot it\n",
    "%matplotlib inline\n",
    "df = pd.DataFrame(data_points, columns=State._fields)\n",
    "labels = df['label']\n",
    "colormap = np.array(['r', 'b', 'g'])\n",
    "axes = df.plot(kind='scatter', x='pos', y='shot_number', c=colormap[labels], s=0)\n",
    "axes.quiver(df['pos'], df['shot_number'], df['vel'], np.zeros_like(df['vel']), color=colormap[labels], scale_units='xy', angles='xy', scale=2.5, width=.0022)\n",
    "\n",
    "df.groupby('label').size()"
   ]
  },
  {
   "cell_type": "markdown",
   "metadata": {},
   "source": [
    "### Filter Away Invisible Points"
   ]
  },
  {
   "cell_type": "code",
   "execution_count": 13,
   "metadata": {
    "collapsed": false
   },
   "outputs": [
    {
     "data": {
      "text/plain": [
       "label\n",
       "0    100\n",
       "1     94\n",
       "dtype: int64"
      ]
     },
     "execution_count": 13,
     "metadata": {},
     "output_type": "execute_result"
    }
   ],
   "source": [
    "data_points = [data_point for data_point in data_points if data_point.pos <= 2 or data_point.label == 2]\n",
    "\n",
    "df = pd.DataFrame(data_points, columns=State._fields)\n",
    " \n",
    "df.groupby('label').size()"
   ]
  },
  {
   "cell_type": "markdown",
   "metadata": {},
   "source": [
    "### Restore Class Balance"
   ]
  },
  {
   "cell_type": "code",
   "execution_count": 14,
   "metadata": {
    "collapsed": false,
    "scrolled": true
   },
   "outputs": [
    {
     "data": {
      "text/plain": [
       "<matplotlib.quiver.Quiver at 0x7f13d705a588>"
      ]
     },
     "execution_count": 14,
     "metadata": {},
     "output_type": "execute_result"
    },
    {
     "name": "stderr",
     "output_type": "stream",
     "text": [
      "/home/ebanner/.anaconda/envs/py35/lib/python3.5/site-packages/matplotlib/collections.py:590: FutureWarning: elementwise comparison failed; returning scalar instead, but in the future will perform elementwise comparison\n",
      "  if self._edgecolors == str('face'):\n"
     ]
    },
    {
     "data": {
      "image/png": "[encoded data removed]",
      "text/plain": [
       "<matplotlib.figure.Figure at 0x7f13d705aeb8>"
      ]
     },
     "metadata": {},
     "output_type": "display_data"
    }
   ],
   "source": [
    "# Plot it\n",
    "labels = df['label']\n",
    "axes = df.plot(kind='scatter', x='pos', y='shot_number', c=colormap[labels], s=0)\n",
    "axes.quiver(df['pos'], df['shot_number'], df['vel'], np.zeros_like(df['vel']), color=colormap[labels], scale_units='xy', angles='xy', scale=2.5, width=.0022)"
   ]
  },
  {
   "cell_type": "code",
   "execution_count": 15,
   "metadata": {
    "collapsed": false
   },
   "outputs": [
    {
     "name": "stdout",
     "output_type": "stream",
     "text": [
      "Stored 'data_points_1d' (DataFrame)\n"
     ]
    }
   ],
   "source": [
    "data_points_1d = df\n",
    "\n",
    "%store data_points_1d"
   ]
  }
 ],
 "metadata": {
  "kernelspec": {
   "display_name": "Python 3",
   "language": "python",
   "name": "python3"
  },
  "language_info": {
   "codemirror_mode": {
    "name": "ipython",
    "version": 3
   },
   "file_extension": ".py",
   "mimetype": "text/x-python",
   "name": "python",
   "nbconvert_exporter": "python",
   "pygments_lexer": "ipython3",
   "version": "3.5.0"
  }
 },
 "nbformat": 4,
 "nbformat_minor": 0
}
