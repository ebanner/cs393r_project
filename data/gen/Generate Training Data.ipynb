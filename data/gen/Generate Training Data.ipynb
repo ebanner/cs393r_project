{
 "cells": [
  {
   "cell_type": "markdown",
   "metadata": {},
   "source": [
    "# Generate Training Data\n",
    "\n",
    "In order to train the discriminative models, we need training data. To this end, we create synthetic training data via a simple simulation of kicks on goal. The algorithm works as follows:\n",
    "\n",
    "- Sample a position (i.e. $x \\in [0, 1]$ and $y \\in [0, 2]$)\n",
    "- Sample from one of the possible ranges `{wide-left`, `block-left`, `block-center`, `block-right`, `wide-right}`\n",
    "- Sample from one the possible powers `{weak`, `strong}`\n",
    "- Kick!\n",
    "- Record each sample"
   ]
  },
  {
   "cell_type": "code",
   "execution_count": 46,
   "metadata": {
    "collapsed": false
   },
   "outputs": [],
   "source": [
    "from collections import namedtuple\n",
    "\n",
    "Range = namedtuple('Range', ['begin', 'end'])\n",
    "\n",
    "width, height = 2, 2\n",
    "center = 2, 1\n",
    "nao_width = .1\n",
    "block_center = Range(1-(nao_width/2), 1+(nao_width/2))\n",
    "block_left = Range(block_center.begin-.3, block_center.begin)\n",
    "wide_left = Range(0, block_left.begin)\n",
    "block_right = Range(block_center.end, block_center.end+.3)\n",
    "wide_right = Range(block_right.end, 2)"
   ]
  },
  {
   "cell_type": "markdown",
   "metadata": {},
   "source": [
    "### Generate Random Kicks Into the Center of the Goal"
   ]
  },
  {
   "cell_type": "code",
   "execution_count": 19,
   "metadata": {
    "collapsed": false
   },
   "outputs": [
    {
     "data": {
      "image/png": "[encoded data removed]",
      "text/plain": [
       "<matplotlib.figure.Figure at 0x7fb2c8161470>"
      ]
     },
     "metadata": {},
     "output_type": "display_data"
    }
   ],
   "source": [
    "import math\n",
    "import random\n",
    "\n",
    "from ipywidgets import interact, fixed\n",
    "\n",
    "time_steps = 10\n",
    "decay = .8\n",
    "\n",
    "x_start, y_start = random.uniform(0, 1), random.uniform(0, 2)\n",
    "\n",
    "@interact(x_start=fixed(x_start), y_start=fixed(y_start), time_step=(0, time_steps), time_steps=fixed(time_steps), decay=fixed(decay))\n",
    "def plot(x_start, y_start, time_step, time_steps, decay):\n",
    "    x_goal, y_goal = 2, 1\n",
    "    \n",
    "    # Calculate initial dx and dy necessary to get the ball to the goal after time_steps\n",
    "    c = (1-decay) / (1-decay**time_steps)\n",
    "    dx = c * (x_goal-x_start)\n",
    "    dy = c * (y_goal-y_start)\n",
    "    \n",
    "    # Calculate how far you've traveled from the start at each time_step\n",
    "    decays = [decay**pow for pow in range(time_step)]\n",
    "    x_deltas = np.append([0], np.cumsum(dx*np.array(decays)))\n",
    "    y_deltas = np.append([0], np.cumsum(dy*np.array(decays)))\n",
    "    \n",
    "    x_positions = x_start + x_deltas\n",
    "    y_positions = y_start + y_deltas\n",
    "    \n",
    "    axes = pd.DataFrame({'x': x_positions,\n",
    "                         'y': y_positions}).plot(kind='scatter', x='x', y='y')\n",
    "    \n",
    "    axes.set_xlim(0, 2)\n",
    "    axes.set_ylim(0, 2)"
   ]
  }
 ],
 "metadata": {
  "kernelspec": {
   "display_name": "Python 3",
   "language": "python",
   "name": "python3"
  }
 },
 "nbformat": 4,
 "nbformat_minor": 0
}
