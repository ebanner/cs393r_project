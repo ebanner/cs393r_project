{
 "cells": [
  {
   "cell_type": "markdown",
   "metadata": {},
   "source": [
    "# Generate Training Data\n",
    "\n",
    "In order to train the discriminative models, we need training data. To this end, we create synthetic training data via a simple simulation of kicks on goal. The algorithm works as follows:\n",
    "\n",
    "- Sample a position (i.e. $x \\in [0, 1]$ and $y \\in [0, 2]$)\n",
    "- Sample from one of the possible ranges `{wide-left`, `block-left`, `block-center`, `block-right`, `wide-right}`\n",
    "- Sample from one the possible powers `{weak`, `strong}`\n",
    "- Kick!\n",
    "- Record each sample"
   ]
  },
  {
   "cell_type": "markdown",
   "metadata": {},
   "source": [
    "### 1D Deterministic Data Generator"
   ]
  },
  {
   "cell_type": "code",
   "execution_count": 4,
   "metadata": {
    "collapsed": true
   },
   "outputs": [],
   "source": [
    "import math\n",
    "import random\n",
    "\n",
    "import itertools\n",
    "from collections import namedtuple\n",
    "\n",
    "State = namedtuple('State', ['pos', 'vel', 'label'])\n",
    "World = namedtuple('World', ['goal', 'end'])\n",
    "\n",
    "def data_generator(world, num_starts=3, num_ends=5, time_steps=10, decay=.8):\n",
    "    \"\"\"Generate data from a fixed set of grid points\n",
    "    \n",
    "    Parameters\n",
    "    ----------\n",
    "    world : World\n",
    "    The dimensions of the world\n",
    "    \n",
    "    num_starts : int\n",
    "    The number of starting points you want\n",
    "    \n",
    "    num_ends : int\n",
    "    The number of ending points you want\n",
    "    \n",
    "    time_steps : int\n",
    "    The number of time steps for the ball to get to the robot. This number should be calculated based on\n",
    "    the assumption that we're operating at 50 Hz. A reasonable number of time steps would thus be 100 (2 seconds)\n",
    "    \n",
    "    decay : float\n",
    "    The constant decay rate of the velocity of the ball\n",
    "    \n",
    "    \"\"\"\n",
    "    goal, end = world\n",
    "    \n",
    "    # Starting and ending points\n",
    "    starts, ends = np.linspace(0, goal/2, num_starts), np.linspace(goal/2, end, num_ends)\n",
    "    \n",
    "    for start, end in itertools.product(starts, ends):\n",
    "        # Starting velocities to reach the goal\n",
    "        c = (1-decay) / (1-decay**time_steps)\n",
    "        dstart = c * (end-start)\n",
    "\n",
    "        # Calculate how far you've traveled from the start at each time_step\n",
    "        decays = [0] + [decay**pow for pow in range(time_steps)]\n",
    "\n",
    "        # Velocity at each time step\n",
    "        velocities = dstart*np.array(decays)\n",
    "\n",
    "        # Distance traveled at each time step\n",
    "        deltas = np.cumsum(velocities)\n",
    "\n",
    "        # Compute the actual points given distances\n",
    "        positions = start + deltas\n",
    "        \n",
    "        # Make sure the first state is always False\n",
    "        yield State(positions[0], velocities[0], False)\n",
    "\n",
    "        # Yield the points one by one\n",
    "        for position, velocity in zip(positions[1:], velocities[1:]):\n",
    "            yield State(position, velocity, end>=2)\n",
    "\n",
    "\n",
    "data_points = data_generator(World(goal=2, end=3), num_starts=2, num_ends=3)"
   ]
  },
  {
   "cell_type": "markdown",
   "metadata": {},
   "source": [
    "### Taking Invisible Points into Account"
   ]
  },
  {
   "cell_type": "code",
   "execution_count": 5,
   "metadata": {
    "collapsed": false
   },
   "outputs": [
    {
     "data": {
      "text/plain": [
       "label\n",
       "False    26\n",
       "True     40\n",
       "dtype: int64"
      ]
     },
     "execution_count": 5,
     "metadata": {},
     "output_type": "execute_result"
    }
   ],
   "source": [
    "data_points = list(data_points)\n",
    "\n",
    "pd.DataFrame(data_points, columns=State._fields).groupby('label').size()"
   ]
  },
  {
   "cell_type": "markdown",
   "metadata": {},
   "source": [
    "### Filter Away Invisible Points"
   ]
  },
  {
   "cell_type": "code",
   "execution_count": 6,
   "metadata": {
    "collapsed": false
   },
   "outputs": [
    {
     "data": {
      "text/plain": [
       "label\n",
       "False    26\n",
       "True     26\n",
       "dtype: int64"
      ]
     },
     "execution_count": 6,
     "metadata": {},
     "output_type": "execute_result"
    }
   ],
   "source": [
    "data_points = [data_point for data_point in data_points if not data_point.pos > 2]\n",
    "\n",
    "data_points_1d = pd.DataFrame(data_points, columns=State._fields)\n",
    "\n",
    "data_points_1d.groupby('label').size()"
   ]
  },
  {
   "cell_type": "code",
   "execution_count": 7,
   "metadata": {
    "collapsed": false
   },
   "outputs": [
    {
     "name": "stdout",
     "output_type": "stream",
     "text": [
      "Stored 'data_points_1d' (DataFrame)\n"
     ]
    }
   ],
   "source": [
    "%store data_points_1d"
   ]
  }
 ],
 "metadata": {
  "kernelspec": {
   "display_name": "Python 3",
   "language": "python",
   "name": "python3"
  },
  "language_info": {
   "codemirror_mode": {
    "name": "ipython",
    "version": 3
   },
   "file_extension": ".py",
   "mimetype": "text/x-python",
   "name": "python",
   "nbconvert_exporter": "python",
   "pygments_lexer": "ipython3",
   "version": "3.5.0"
  }
 },
 "nbformat": 4,
 "nbformat_minor": 0
}
