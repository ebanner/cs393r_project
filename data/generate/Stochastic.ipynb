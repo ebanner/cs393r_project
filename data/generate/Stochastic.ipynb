{
 "cells": [
  {
   "cell_type": "markdown",
   "metadata": {},
   "source": [
    "# Stochastic Data Generator"
   ]
  },
  {
   "cell_type": "code",
   "execution_count": null,
   "metadata": {
    "collapsed": true
   },
   "outputs": [],
   "source": [
    "import math\n",
    "import random\n",
    "\n",
    "from collections import namedtuple\n",
    "\n",
    "Point = namedtuple('Point', ['x', 'y'])\n",
    "State = namedtuple('State', ['x', 'y', 'dx', 'dy'])\n",
    "World = namedtuple('World', ['width', 'height', 'nao_width', 'goal_width'])\n",
    "\n",
    "def data_generator(world, num_samples=100, x_goal=2, y_goal=1, time_steps=10, decay=.8, zero_dy=False):\n",
    "    \"\"\"Yields successive States of ball kicks\n",
    "    \n",
    "    Parameters\n",
    "    ----------\n",
    "    world : World\n",
    "    The dimensions of the world\n",
    "    \n",
    "    x_goal : float\n",
    "    The x coordinate of the robot\n",
    "    \n",
    "    y_goal : float\n",
    "    The y coordinate of the robot\n",
    "    \n",
    "    time_steps : int\n",
    "    The number of time steps for the ball to get to the robot. This number should be calculated based on\n",
    "    the assumption that we're operating at 50 Hz. A reasonable number of time steps would thus be 100 (2 seconds)\n",
    "    \n",
    "    decay : float\n",
    "    The constant decay rate of the velocity of the ball\n",
    "    \n",
    "    zero_dy : bool\n",
    "    Flag indicating whether dy should be zero\n",
    "    \n",
    "    \"\"\"\n",
    "    height, width, nao_width, goal_width = world\n",
    "    \n",
    "    # Convert goal_width to global scale\n",
    "    goal_width *= height\n",
    "    \n",
    "    \n",
    "    for _ in range(num_samples):\n",
    "        # Starting point\n",
    "        goal_region_y = (y_goal-goal_width/2, y_goal+goal_width/2)\n",
    "        x_start, y_start = random.uniform(0, 1), random.uniform(*goal_region_y)\n",
    "\n",
    "        # Starting velocities to reach the goal\n",
    "        c = (1-decay) / (1-decay**time_steps)\n",
    "        dx = c * (x_goal-x_start)\n",
    "        dy = c * (y_goal-y_start) if not zero_dy else 0\n",
    "        \n",
    "        # Calculate how far you've traveled from the start at each time_step\n",
    "        decays = [0] + [decay**pow for pow in range(time_steps)]\n",
    "        \n",
    "        # Velocity at each time step\n",
    "        x_velocities = dx*np.array(decays)\n",
    "        y_velocities = dy*np.array(decays)\n",
    "        \n",
    "        # Distance traveled at each time step\n",
    "        x_deltas = np.cumsum(x_velocities)\n",
    "        y_deltas = np.cumsum(y_velocities) if not zero_dy else np.zeros(time_steps+1)\n",
    "        \n",
    "        # Compute the actual points given distances\n",
    "        x_positions = x_start + x_deltas\n",
    "        y_positions = y_start + y_deltas\n",
    "        \n",
    "        # Yield the points one by one\n",
    "        for x_pos, y_pos, x_vel, y_vel in zip(x_positions, y_positions, x_velocities, y_velocities):\n",
    "            yield State(x_pos, y_pos, x_vel, y_vel)\n",
    "\n",
    "\n",
    "data_points = data_generator(World(width=2, height=2, nao_width=.2, goal_width=.5), zero_dy=True)"
   ]
  },
  {
   "cell_type": "markdown",
   "metadata": {},
   "source": [
    "### Check `y`-sampling"
   ]
  },
  {
   "cell_type": "code",
   "execution_count": null,
   "metadata": {
    "collapsed": true
   },
   "outputs": [],
   "source": [
    "def ys_generator(num_samples):\n",
    "    \"\"\"Yield a large number of initial y points for sanity check\"\"\"\n",
    "    \n",
    "    for _ in range(num_samples):\n",
    "        state = next(data_point)\n",
    "        \n",
    "        yield state.y\n",
    "        \n",
    "        for _ in range(10-1):\n",
    "            next(data_point)\n",
    "            \n",
    "initial_y = ys_generator(1000)\n",
    "\n",
    "pd.DataFrame(list(initial_y)).plot(kind='hist')"
   ]
  },
  {
   "cell_type": "markdown",
   "metadata": {},
   "source": [
    "### Visualization"
   ]
  },
  {
   "cell_type": "code",
   "execution_count": null,
   "metadata": {
    "collapsed": true
   },
   "outputs": [],
   "source": [
    "import math\n",
    "import random\n",
    "\n",
    "from ipywidgets import interact, fixed\n",
    "\n",
    "time_steps = 10\n",
    "decay = .8\n",
    "\n",
    "x_start, y_start = random.uniform(0, 1), random.uniform(0, 2)\n",
    "\n",
    "@interact(x_start=fixed(x_start), y_start=fixed(y_start), time_step=(0, time_steps), time_steps=fixed(time_steps), decay=fixed(decay))\n",
    "def plot(x_start, y_start, time_step, time_steps, decay):\n",
    "    x_goal, y_goal = 2, 1\n",
    "    \n",
    "    # Calculate initial dx and dy necessary to get the ball to the goal after time_steps\n",
    "    c = (1-decay) / (1-decay**time_steps)\n",
    "    dx = c * (x_goal-x_start)\n",
    "    dy = c * (y_goal-y_start)\n",
    "    \n",
    "    # Calculate how far you've traveled from the start at each time_step\n",
    "    decays = [decay**pow for pow in range(time_step)]\n",
    "    x_deltas = np.append([0], np.cumsum(dx*np.array(decays)))\n",
    "    y_deltas = np.append([0], np.cumsum(dy*np.array(decays)))\n",
    "    \n",
    "    x_positions = x_start + x_deltas\n",
    "    y_positions = y_start + y_deltas\n",
    "    \n",
    "    axes = pd.DataFrame({'x': x_positions,\n",
    "                         'y': y_positions}).plot(kind='scatter', x='x', y='y')\n",
    "    \n",
    "    axes.set_xlim(0, 2)\n",
    "    axes.set_ylim(0, 2)"
   ]
  }
 ],
 "metadata": {
  "kernelspec": {
   "display_name": "Python 3",
   "language": "python",
   "name": "python3"
  },
  "language_info": {
   "codemirror_mode": {
    "name": "ipython",
    "version": 3
   },
   "file_extension": ".py",
   "mimetype": "text/x-python",
   "name": "python",
   "nbconvert_exporter": "python",
   "pygments_lexer": "ipython3",
   "version": "3.5.0"
  }
 },
 "nbformat": 4,
 "nbformat_minor": 0
}
