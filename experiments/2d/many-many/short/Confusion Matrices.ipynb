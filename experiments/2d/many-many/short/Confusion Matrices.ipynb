{
 "cells": [
  {
   "cell_type": "markdown",
   "metadata": {},
   "source": [
    "### Load in Shot Data"
   ]
  },
  {
   "cell_type": "code",
   "execution_count": 1,
   "metadata": {
    "collapsed": true
   },
   "outputs": [],
   "source": [
    "import pickle\n",
    "\n",
    "%store -r shots\n",
    "\n",
    "df = shots['df']\n",
    "sideways = df.T"
   ]
  },
  {
   "cell_type": "markdown",
   "metadata": {},
   "source": [
    "### Plotting Functions"
   ]
  },
  {
   "cell_type": "code",
   "execution_count": 2,
   "metadata": {
    "collapsed": true
   },
   "outputs": [],
   "source": [
    "def draw_goal(axes):\n",
    "    \"\"\"Draw a goal on the axes\"\"\"\n",
    "    \n",
    "    X_GOAL = 3\n",
    "    \n",
    "    axes.plot((X_GOAL, X_GOAL), (-1.5, 1.5), 'k-', linewidth=2.)\n",
    "    axes.plot((X_GOAL-.1, X_GOAL), (1.5, 1.5), 'k-', linewidth=2.)\n",
    "    axes.plot((X_GOAL-.1, X_GOAL), (-1.5, -1.5), 'k-', linewidth=2.)\n",
    "    axes.annotate('Goal', xy=(X_GOAL, 1.5), xytext=(4, 2.5), arrowprops=dict(facecolor='black', shrink=0.05, width=1.))\n",
    "    \n",
    "    return axes"
   ]
  },
  {
   "cell_type": "code",
   "execution_count": 3,
   "metadata": {
    "collapsed": false
   },
   "outputs": [],
   "source": [
    "def plot_confusion_matrix(confusion_matrices, clf):\n",
    "    columns = ('Wide Left', 'Shot Left', 'Shot Middle', 'Shot Right', 'Wide Right', 'Short')\n",
    "    num = len(confusion_matrices)\n",
    "    fars, nears = ['Far']*num, ['Near']*num\n",
    "    distances = fars + nears\n",
    "    distances[::2], distances[1::2] = fars, nears\n",
    "    \n",
    "    feature_sets = ['Position+Velocity']*2 + ['Position']*2 + ['Distance+Bearing']*2\n",
    "    \n",
    "    fig = plt.figure(figsize=(30,30))\n",
    "    plt.clf()\n",
    "\n",
    "    for subplot_num, confusion_matrix, distance, features in zip((2, 3, 5, 6, 8, 9), confusion_matrices, distances, feature_sets):\n",
    "        axes = fig.add_subplot(3, 3, subplot_num)\n",
    "        df = pd.DataFrame(confusion_matrix, columns=columns, index=columns)\n",
    "        axes.imshow(df, interpolation='nearest')\n",
    "        plt.title('{} {} ({})'.format(clf, features, distance))\n",
    "        tick_marks = np.arange(len(columns))\n",
    "        plt.xticks(tick_marks, df.index, rotation=90)\n",
    "        plt.yticks(tick_marks, df.index)\n",
    "        plt.ylabel('True label')\n",
    "        plt.xlabel('Predicted label')\n",
    "\n",
    "        width = height = len(columns)\n",
    "\n",
    "        for x in xrange(width):\n",
    "            for y in xrange(height):\n",
    "                axes.annotate(str(confusion_matrix[x][y]) if confusion_matrix[x][y] else '', xy=(y, x), \n",
    "                            horizontalalignment='center',\n",
    "                            verticalalignment='center')\n",
    "\n",
    "    fig.subplots_adjust(wspace=.35, hspace=.65)\n",
    "    \n",
    "    return fig"
   ]
  },
  {
   "cell_type": "markdown",
   "metadata": {},
   "source": [
    "### Original Keeper Behavior"
   ]
  },
  {
   "cell_type": "code",
   "execution_count": 6,
   "metadata": {
    "collapsed": false,
    "scrolled": true
   },
   "outputs": [
    {
     "data": {
      "image/png": "[encoded data removed]",
      "text/plain": [
       "<matplotlib.figure.Figure at 0x7f38052e4dd0>"
      ]
     },
     "metadata": {},
     "output_type": "display_data"
    }
   ],
   "source": [
    "far = np.array([[5,0,0,0,0,0],\n",
    "                [0,5,0,0,0,0],\n",
    "                [0,1,4,0,0,0],\n",
    "                [0,0,0,5,0,0],\n",
    "                [0,0,0,0,5,0],\n",
    "                [0,0,0,0,0,0]])\n",
    "\n",
    "near = np.array([[5,0,0,0,0,0],\n",
    "                 [0,1,0,0,0,4],\n",
    "                 [0,0,0,0,0,5],\n",
    "                 [0,0,0,2,0,3],\n",
    "                 [0,0,0,0,5,0],\n",
    "                 [0,0,0,0,0,5]])\n",
    "\n",
    "plot_confusion_matrix([far, near], 'Original Keeper Behavior')"
   ]
  },
  {
   "cell_type": "markdown",
   "metadata": {},
   "source": [
    "### Softmax"
   ]
  },
  {
   "cell_type": "code",
   "execution_count": 4,
   "metadata": {
    "collapsed": false
   },
   "outputs": [
    {
     "data": {
      "text/plain": [
       "<matplotlib.axes._subplots.AxesSubplot at 0x7f4c247cadd0>"
      ]
     },
     "execution_count": 4,
     "metadata": {},
     "output_type": "execute_result"
    }
   ],
   "source": [
    "pv_far =  np.array([[0,0,5,0,0,0],\n",
    "                    [0,0,5,0,0,0],\n",
    "                    [0,0,4,1,0,0],\n",
    "                    [0,0,1,4,0,0],\n",
    "                    [0,0,0,5,0,0],\n",
    "                    [0,0,0,0,0,0]])\n",
    "\n",
    "pv_near = np.array([[0,0,5,0,0,0],\n",
    "                    [0,0,5,0,0,0],\n",
    "                    [0,0,4,1,0,0],\n",
    "                    [0,0,1,4,0,0],\n",
    "                    [0,0,0,5,0,0],\n",
    "                    [0,0,5,0,0,0]])\n",
    "\n",
    "p_far  =  np.array([[1,4,0,0,0,0],\n",
    "                    [0,5,0,0,0,0],\n",
    "                    [0,0,4,1,0,0],\n",
    "                    [0,0,0,5,0,0],\n",
    "                    [0,0,0,5,0,0],\n",
    "                    [0,0,0,0,0,0]])\n",
    "\n",
    "p_near =  np.array([[4,1,0,0,0,0],\n",
    "                    [0,5,0,0,0,0],\n",
    "                    [0,0,5,0,0,0],\n",
    "                    [0,0,0,5,0,0],\n",
    "                    [0,0,0,4,1,0],\n",
    "                    [0,0,0,0,0,5]])\n",
    "\n",
    "db_far =  np.array([[4,1,0,0,0,0],\n",
    "                    [0,2,3,0,0,0],\n",
    "                    [0,0,5,0,0,0],\n",
    "                    [0,0,0,5,0,0],\n",
    "                    [0,0,0,5,0,0],\n",
    "                    [0,0,0,0,0,0]])\n",
    "\n",
    "db_near = np.array([[0,0,5,0,0,0],\n",
    "                    [0,0,5,0,0,0],\n",
    "                    [0,0,5,0,0,0],\n",
    "                    [0,0,5,0,0,0],\n",
    "                    [0,0,5,0,0,0],\n",
    "                    [0,0,5,0,0,0]])\n",
    "\n",
    "%matplotlib qt\n",
    "fig = plot_confusion_matrix([pv_far, pv_near, p_far, p_near, db_far, db_near], 'Softmax')\n",
    "\n",
    "# Position+Velocity\n",
    "axes = fig.add_subplot(3, 3, 1)\n",
    "with open('/home/ebanner/nao/trunk/core/python/behaviors/position_velocity-softmax.py', 'rb') as f:\n",
    "    model = pickle.load(f)\n",
    "\n",
    "# Load in softmax and make predictions\n",
    "sm = model['clf']\n",
    "X = np.array(sideways.ix[['x0', 'y0', 'dx0', 'dy0']]).astype(float)\n",
    "scores, predictions = sm.predict(X)\n",
    "df['predictions'] = predictions\n",
    "\n",
    "# Plot decisions\n",
    "colormap = np.array(['r', 'g', 'b', 'y'])\n",
    "axes = df.plot(ax=axes, kind='scatter', x='x0', y='y0', c=colormap[df['predictions']], title='Softmax Decision Boundaries', s=0)\n",
    "axes.quiver(df['x0'], df['y0'], df['dx0'], df['dy0'], color=colormap[df['predictions']], scale_units='xy', angles='xy', scale=2.5, width=.0022)\n",
    "draw_goal(axes)\n",
    "\n",
    "# Position\n",
    "axes = fig.add_subplot(3, 3, 4)\n",
    "with open('/home/ebanner/nao/trunk/core/python/behaviors/position-softmax.py', 'rb') as f:\n",
    "    model = pickle.load(f)\n",
    "\n",
    "# Load in softmax and make predictions\n",
    "sm = model['clf']\n",
    "X = np.array(sideways['x0':'y{}'.format(model['window_size']-1)]).astype(float)\n",
    "scores, predictions = sm.predict(X)\n",
    "df['predictions'] = predictions\n",
    "\n",
    "# Plot decisions\n",
    "scores, predictions = sm.predict(X)\n",
    "df['predictions'] = predictions\n",
    "axes = df.plot(ax=axes, kind='scatter', x='x_avg', y='y_avg', c=colormap[df['predictions']], title='Softmax Decision Boundaries', s=0)\n",
    "axes.quiver(df['x_avg'], df['y_avg'], df['dx_avg'], df['dy_avg'], color=colormap[df['predictions']], scale_units='xy', angles='xy', scale=2.5, width=.0022)\n",
    "draw_goal(axes)\n",
    "\n",
    "# Distance+Bearing\n",
    "axes = fig.add_subplot(3, 3, 7)\n",
    "with open('/home/ebanner/nao/trunk/core/python/behaviors/distance_bearing-softmax.py', 'rb') as f:\n",
    "    model = pickle.load(f)\n",
    "\n",
    "# Load in softmax and make predictions\n",
    "sm = model['clf']\n",
    "X = np.array(sideways['dist0':'theta{}'.format(model['window_size']-1)])\n",
    "scores, predictions = sm.predict(X)\n",
    "df['predictions'] = predictions\n",
    "\n",
    "# Plot decisions\n",
    "scores, predictions = sm.predict(X)\n",
    "df['predictions'] = predictions\n",
    "axes = df.plot(ax=axes, kind='scatter', x='x_avg', y='y_avg', c=colormap[df['predictions']], title='Softmax Decision Boundaries', s=0)\n",
    "axes.quiver(df['x_avg'], df['y_avg'], df['dx_avg'], df['dy_avg'], color=colormap[df['predictions']], scale_units='xy', angles='xy', scale=2.5, width=.0022)\n",
    "draw_goal(axes)"
   ]
  },
  {
   "cell_type": "code",
   "execution_count": 5,
   "metadata": {
    "collapsed": false
   },
   "outputs": [
    {
     "data": {
      "text/plain": [
       "':/home/ebanner/cs393r_project/classifiers:/home/ebanner/cs393r_project/classifiers/lib:/home/ebanner/project/classifiers:/home/ebanner/project/classifiers/lib:/home/ebanner/project/classifiers:/home/ebanner/project/classifiers/lib'"
      ]
     },
     "execution_count": 5,
     "metadata": {},
     "output_type": "execute_result"
    }
   ],
   "source": [
    "import os\n",
    "\n",
    "os.environ['PYTHONPATH']"
   ]
  },
  {
   "cell_type": "markdown",
   "metadata": {},
   "source": [
    "### Neural Network "
   ]
  },
  {
   "cell_type": "code",
   "execution_count": 5,
   "metadata": {
    "collapsed": false
   },
   "outputs": [
    {
     "data": {
      "text/plain": [
       "<matplotlib.axes._subplots.AxesSubplot at 0x7f4c16800890>"
      ]
     },
     "execution_count": 5,
     "metadata": {},
     "output_type": "execute_result"
    }
   ],
   "source": [
    "pv_far =  np.array([[3,2,1,0,0,0],\n",
    "                    [0,3,2,0,0,0],\n",
    "                    [0,0,5,0,0,0],\n",
    "                    [0,0,5,0,0,0],\n",
    "                    [0,0,0,5,0,0],\n",
    "                    [0,0,0,0,0,0]])\n",
    "\n",
    "pv_near = np.array([[5,0,0,0,0,0],\n",
    "                    [0,1,4,0,0,0],\n",
    "                    [0,0,5,0,0,0],\n",
    "                    [0,0,1,4,0,0],\n",
    "                    [0,0,5,0,0,0],\n",
    "                    [0,0,5,0,0,0]])\n",
    "\n",
    "p_far  =  np.array([[0,5,0,0,0,0],\n",
    "                    [0,5,0,0,0,0],\n",
    "                    [0,0,5,0,0,0],\n",
    "                    [0,0,0,5,0,0],\n",
    "                    [0,0,0,1,4,0],\n",
    "                    [0,0,0,0,0,0]])\n",
    "\n",
    "p_near =  np.array([[0,5,0,0,0,0],\n",
    "                    [0,1,4,0,0,0],\n",
    "                    [0,0,5,0,0,0],\n",
    "                    [0,0,0,5,0,0],\n",
    "                    [0,0,0,0,5,0],\n",
    "                    [0,0,2,0,0,3]])\n",
    "\n",
    "db_far =  np.array([[5,0,0,0,0,0],\n",
    "                    [0,2,3,0,0,0],\n",
    "                    [0,0,5,0,0,0],\n",
    "                    [0,0,0,5,0,0],\n",
    "                    [0,0,0,0,5,0],\n",
    "                    [0,0,0,0,0,0]])\n",
    "\n",
    "db_near = np.array([[0,0,5,0,0,0],\n",
    "                    [0,1,2,0,0,2],\n",
    "                    [0,0,5,0,0,0],\n",
    "                    [0,0,0,5,0,0],\n",
    "                    [0,0,5,0,0,0],\n",
    "                    [0,0,0,0,0,5]])\n",
    "\n",
    "%matplotlib qt\n",
    "fig = plot_confusion_matrix([pv_far, pv_near, p_far, p_near, db_far, db_near], 'Neural Network')\n",
    "\n",
    "colormap = np.array(['r', 'g', 'b', 'y'])\n",
    "\n",
    "# Position+Velocity\n",
    "axes = fig.add_subplot(3, 3, 1)\n",
    "with open('/home/ebanner/nao/trunk/core/python/behaviors/position_velocity-nn.py', 'rb') as f:\n",
    "    model = pickle.load(f)\n",
    "\n",
    "# Load in nn and make predictions\n",
    "nn = model['clf']\n",
    "X = np.array(sideways.ix[['x0', 'y0', 'dx0', 'dy0']]).astype(float)\n",
    "scores, predictions = nn.predict(X)\n",
    "df['predictions'] = predictions\n",
    "axes = df.plot(ax=axes, kind='scatter', x='x0', y='y0', c=colormap[df['predictions']], title='Neural Network Decision Boundaries', s=0)\n",
    "axes.quiver(df['x0'], df['y0'], df['dx0'], df['dy0'], color=colormap[df['predictions']], scale_units='xy', angles='xy', scale=2.5, width=.0022)\n",
    "draw_goal(axes)\n",
    "\n",
    "# Position\n",
    "axes = fig.add_subplot(3, 3, 4)\n",
    "with open('/home/ebanner/nao/trunk/core/python/behaviors/positions-nn.py', 'rb') as f:\n",
    "    model = pickle.load(f)\n",
    "\n",
    "# Load in nn and make predictions\n",
    "nn = model['clf']\n",
    "X = np.array(sideways['x0':'y{}'.format(model['window_size']-1)]).astype(float)\n",
    "scores, predictions = nn.predict(X)\n",
    "df['predictions'] = predictions\n",
    "axes = df.plot(ax=axes, kind='scatter', x='x_avg', y='y_avg', c=colormap[df['predictions']], title='Neural Network Decision Boundaries', s=0)\n",
    "axes.quiver(df['x_avg'], df['y_avg'], df['dx_avg'], df['dy_avg'], color=colormap[df['predictions']], scale_units='xy', angles='xy', scale=2.5, width=.0022)\n",
    "draw_goal(axes)\n",
    "\n",
    "# Distance+Bearing\n",
    "axes = fig.add_subplot(3, 3, 7)\n",
    "with open('/home/ebanner/nao/trunk/core/python/behaviors/distance_bearing-nn.py', 'rb') as f:\n",
    "    model = pickle.load(f)\n",
    "\n",
    "# Load in nn and make predictions\n",
    "nn = model['clf']\n",
    "X = np.array(sideways['dist0':'theta{}'.format(model['window_size']-1)])\n",
    "scores, predictions = nn.predict(X)\n",
    "df['predictions'] = predictions\n",
    "axes = df.plot(ax=axes, kind='scatter', x='x_avg', y='y_avg', c=colormap[df['predictions']], title='Neural Network Decision Boundaries', s=0)\n",
    "axes.quiver(df['x_avg'], df['y_avg'], df['dx_avg'], df['dy_avg'], color=colormap[df['predictions']], scale_units='xy', angles='xy', scale=2.5, width=.0022)\n",
    "draw_goal(axes)"
   ]
  }
 ],
 "metadata": {
  "kernelspec": {
   "display_name": "Python 2",
   "language": "python",
   "name": "python2"
  },
  "language_info": {
   "codemirror_mode": {
    "name": "ipython",
    "version": 2
   },
   "file_extension": ".py",
   "mimetype": "text/x-python",
   "name": "python",
   "nbconvert_exporter": "python",
   "pygments_lexer": "ipython2",
   "version": "2.7.10"
  }
 },
 "nbformat": 4,
 "nbformat_minor": 0
}
