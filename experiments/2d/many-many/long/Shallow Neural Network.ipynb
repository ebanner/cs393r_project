{
 "cells": [
  {
   "cell_type": "markdown",
   "metadata": {},
   "source": [
    "# 2D Shallow Neural Network Position-Velocity Model\n",
    "\n",
    "Note the *2D* part refers to the ball is being shot from a point to different points in the goal, **not** that the input features are 2D. In fact, the input features are 4D `[x, y, dx, dy]` vectors"
   ]
  },
  {
   "cell_type": "markdown",
   "metadata": {},
   "source": [
    "### Load Data"
   ]
  },
  {
   "cell_type": "code",
   "execution_count": 6,
   "metadata": {
    "collapsed": false,
    "scrolled": true
   },
   "outputs": [],
   "source": [
    "%store -r many_many_long\n",
    "\n",
    "sideways = many_many_long.T\n",
    "\n",
    "X, Y = np.array(sideways[:4]).astype(float), np.array(sideways.ix[4, :]).astype(int)"
   ]
  },
  {
   "cell_type": "markdown",
   "metadata": {},
   "source": [
    "### Train"
   ]
  },
  {
   "cell_type": "code",
   "execution_count": null,
   "metadata": {
    "collapsed": false,
    "scrolled": true
   },
   "outputs": [],
   "source": [
    "from nn.shallow.model import NeuralNetwork\n",
    "\n",
    "nn = NeuralNetwork(X, Y, H=10, C=5, learning_rate=.1, regularizer=0, gradient_checking=False, inspect=True)\n",
    "\n",
    "def states(iters):\n",
    "    for _ in range(iters):\n",
    "        nn.learn()\n",
    "        yield nn.info\n",
    "        \n",
    "states = list(states(50000))"
   ]
  },
  {
   "cell_type": "markdown",
   "metadata": {},
   "source": [
    "### Plot Losses"
   ]
  },
  {
   "cell_type": "code",
   "execution_count": null,
   "metadata": {
    "collapsed": false
   },
   "outputs": [],
   "source": [
    "def loss_averages():\n",
    "    for state in states:\n",
    "        yield state.loss.mean()\n",
    "        \n",
    "loss_avgs = list(loss_averages())\n",
    "\n",
    "pd.DataFrame(loss_avgs, columns=['loss']).plot()"
   ]
  },
  {
   "cell_type": "markdown",
   "metadata": {},
   "source": [
    "### Visualize\n",
    "\n",
    "Notice the plots are linear because of the following recurrence relation:\n",
    "\n",
    "$$v_t = x_{t+1} - x_t$$\n",
    "\n",
    "This formula follows by definition of $x_t$:\n",
    "\n",
    "$$x_t = x_{t-1} + v_{t-1}$$\n",
    "\n",
    "Intuitively, as the difference between $x$ points gets smaller, the difference between $y$ points get smaller **by the same amount**"
   ]
  },
  {
   "cell_type": "code",
   "execution_count": null,
   "metadata": {
    "collapsed": false
   },
   "outputs": [],
   "source": [
    "from ipywidgets import interact, fixed\n",
    "\n",
    "@interact(X=fixed(X), Y=fixed(Y), many_many_long=fixed(many_many_long), view_index=(0, len(states)-1), states=fixed(states))\n",
    "def plot(X, Y, many_many_long, view_index, states):\n",
    "    \"\"\"View decision boundary over time\n",
    "    \n",
    "    We have the state of the model (i.e. its parameters) after every time step.\n",
    "    We want to see how the model learns over time. Hence create a one-off instance\n",
    "    of a softmax with its old parameters and ask it to make a bunch of predictions!\n",
    "    \"\"\"\n",
    "    s = states[view_index]\n",
    "    nn = NeuralNetwork(X=X, ys_train=Y, H=10, C=5, Wh=s.Wh, bh=s.bh, Ws=s.Ws, bs=s.bs)\n",
    "    \n",
    "    # Plotting\n",
    "    colormap = np.array(['r', 'g', 'b', 'y', 'violet'])\n",
    "    \n",
    "    # Plot the gold standard in a plot right next to it\n",
    "    many_many_long.plot(kind='scatter', x='x', y='y', c=colormap[many_many_long['label']], title='Ground Truth')\n",
    "\n",
    "    # Predictions\n",
    "    many_many_long['predictions'] = nn.predict(X)\n",
    "    many_many_long.plot(kind='scatter', x='x', y='y', c=colormap[many_many_long['predictions']], title='Predictions')\n",
    "    \n",
    "    # Misclassified examples\n",
    "    many_many_long['correct'] = many_many_long['label'] == many_many_long['predictions']\n",
    "    many_many_long.plot(kind='scatter', x='x', y='y', c=colormap[many_many_long['correct']], title='Missclassified')"
   ]
  },
  {
   "cell_type": "code",
   "execution_count": null,
   "metadata": {
    "collapsed": false
   },
   "outputs": [],
   "source": [
    "many_many_long['correct'].sum() / len(many_many_long)"
   ]
  }
 ],
 "metadata": {
  "kernelspec": {
   "display_name": "Python 3",
   "language": "python",
   "name": "python3"
  },
  "language_info": {
   "codemirror_mode": {
    "name": "ipython",
    "version": 3
   },
   "file_extension": ".py",
   "mimetype": "text/x-python",
   "name": "python",
   "nbconvert_exporter": "python",
   "pygments_lexer": "ipython3",
   "version": "3.5.0"
  }
 },
 "nbformat": 4,
 "nbformat_minor": 0
}
