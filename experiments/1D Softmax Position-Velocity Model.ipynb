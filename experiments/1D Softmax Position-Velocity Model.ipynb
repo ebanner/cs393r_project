{
 "cells": [
  {
   "cell_type": "markdown",
   "metadata": {},
   "source": [
    "# 1D Softmax Position-Velocity Model\n",
    "\n",
    "- Read in data from 1D generated shot data\n",
    "- Train on it\n",
    "- Visualize"
   ]
  },
  {
   "cell_type": "markdown",
   "metadata": {},
   "source": [
    "### Load Data"
   ]
  },
  {
   "cell_type": "code",
   "execution_count": 1,
   "metadata": {
    "collapsed": false
   },
   "outputs": [],
   "source": [
    "%store -r data_points_1d\n",
    "\n",
    "sideways = data_points_1d.T\n",
    "\n",
    "X, Y = np.array(sideways[:2]).astype(float), np.array(sideways[2:]).astype(int)"
   ]
  },
  {
   "cell_type": "markdown",
   "metadata": {},
   "source": [
    "### Train"
   ]
  },
  {
   "cell_type": "code",
   "execution_count": 2,
   "metadata": {
    "collapsed": false,
    "scrolled": true
   },
   "outputs": [],
   "source": [
    "from softmax import Softmax, Model\n",
    "\n",
    "sm = Softmax(X, Y, C=2, learning_rate=.01, regularizer=0.01, gradient_checking=False, inspect=True)\n",
    "\n",
    "def states(iters):\n",
    "    for _ in range(iters):\n",
    "        sm.learn()\n",
    "        yield sm.info\n",
    "        \n",
    "states = list(states(50000))"
   ]
  },
  {
   "cell_type": "markdown",
   "metadata": {},
   "source": [
    "### Visualize"
   ]
  },
  {
   "cell_type": "code",
   "execution_count": 3,
   "metadata": {
    "collapsed": false
   },
   "outputs": [
    {
     "data": {
      "image/png": "[encoded data removed]",
      "text/plain": [
       "<matplotlib.figure.Figure at 0x7f30a2c96080>"
      ]
     },
     "metadata": {},
     "output_type": "display_data"
    }
   ],
   "source": [
    "from ipywidgets import interact, fixed\n",
    "\n",
    "@interact(X=fixed(X), Y=fixed(Y), view_index=(0, len(states)-1), states=fixed(states))\n",
    "def plot(X, Y, view_index, states):\n",
    "    \"\"\"View decision boundary over time\n",
    "    \n",
    "    We have the state of the model (i.e. its parameters) after every time step.\n",
    "    We want to see how the model learns over time. Hence create a one-off instance\n",
    "    of a softmax with its old parameters and ask it to make a bunch of predictions!\n",
    "    \"\"\"\n",
    "    s = states[view_index]\n",
    "    sm = Softmax(X=X, ys_train=Y, C=2, W=s.W, b=s.b)\n",
    "    \n",
    "    # Plotting\n",
    "    xmin = ymin = 0\n",
    "    xmax, ymax = 2, 1\n",
    "    step = 0.01\n",
    "    xx, yy = np.meshgrid(np.arange(xmin, xmax, step), np.arange(ymin, ymax, step))\n",
    "\n",
    "    # Plot the decision boundary. For that, we will assign a color to each\n",
    "    # point in the mesh [x_min, m_max]x[y_min, y_max].\n",
    "    fig, ax = plt.subplots()\n",
    "    Z = sm.predict(np.c_[xx.ravel(), yy.ravel()].T)\n",
    "\n",
    "    # Put the result into a color plot\n",
    "    Z = Z.reshape(xx.shape)\n",
    "    ax.contourf(xx, yy, Z, cmap=plt.cm.Paired)\n",
    "\n",
    "    # Plot also the training points\n",
    "    ax.scatter(X[0, :], X[1, :], c=Y, cmap=plt.cm.Greens)\n",
    "    \n",
    "    plt.xlabel('position')\n",
    "    plt.ylabel('velocity')"
   ]
  },
  {
   "cell_type": "markdown",
   "metadata": {},
   "source": [
    "### Plot Losses"
   ]
  },
  {
   "cell_type": "code",
   "execution_count": 4,
   "metadata": {
    "collapsed": false,
    "scrolled": true
   },
   "outputs": [
    {
     "data": {
      "text/plain": [
       "<matplotlib.axes._subplots.AxesSubplot at 0x7f30ac27fe80>"
      ]
     },
     "execution_count": 4,
     "metadata": {},
     "output_type": "execute_result"
    },
    {
     "data": {
      "image/png": "[encoded data removed]",
      "text/plain": [
       "<matplotlib.figure.Figure at 0x7f30ab839ba8>"
      ]
     },
     "metadata": {},
     "output_type": "display_data"
    }
   ],
   "source": [
    "def loss_averages():\n",
    "    for state in states:\n",
    "        yield state.loss.mean()\n",
    "        \n",
    "loss_avgs = list(loss_averages())\n",
    "\n",
    "pd.DataFrame(loss_avgs, columns=['loss']).plot()"
   ]
  }
 ],
 "metadata": {
  "kernelspec": {
   "display_name": "Python 3",
   "language": "python",
   "name": "python3"
  },
  "language_info": {
   "codemirror_mode": {
    "name": "ipython",
    "version": 3
   },
   "file_extension": ".py",
   "mimetype": "text/x-python",
   "name": "python",
   "nbconvert_exporter": "python",
   "pygments_lexer": "ipython3",
   "version": "3.5.0"
  }
 },
 "nbformat": 4,
 "nbformat_minor": 0
}
