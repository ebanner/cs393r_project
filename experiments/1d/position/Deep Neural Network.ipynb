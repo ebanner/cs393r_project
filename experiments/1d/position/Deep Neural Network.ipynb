{
 "cells": [
  {
   "cell_type": "markdown",
   "metadata": {},
   "source": [
    "# 1D Neural Network Position Model\n",
    "\n",
    "The goal of this notebook is to replicate the results of the 1D neural network"
   ]
  },
  {
   "cell_type": "markdown",
   "metadata": {},
   "source": [
    "### Hyperparameters"
   ]
  },
  {
   "cell_type": "code",
   "execution_count": 1,
   "metadata": {
    "collapsed": true
   },
   "outputs": [],
   "source": [
    "HIDDEN_SIZES = [5, 5, 5]\n",
    "EPOCHS = 25000"
   ]
  },
  {
   "cell_type": "markdown",
   "metadata": {},
   "source": [
    "### Load Data"
   ]
  },
  {
   "cell_type": "code",
   "execution_count": null,
   "metadata": {
    "collapsed": false
   },
   "outputs": [],
   "source": [
    "%store -r data_1d\n",
    "\n",
    "df = data_1d\n",
    "sideways = df.T\n",
    "\n",
    "X, Y = np.array(sideways[:10]), np.array(sideways.ix['label']).astype(int)\n",
    "\n",
    "assert str(X.dtype) == 'float64'"
   ]
  },
  {
   "cell_type": "markdown",
   "metadata": {},
   "source": [
    "### Train"
   ]
  },
  {
   "cell_type": "code",
   "execution_count": null,
   "metadata": {
    "collapsed": false,
    "scrolled": true
   },
   "outputs": [],
   "source": [
    "from nn.deep.model import NeuralNetwork\n",
    "\n",
    "nn = NeuralNetwork(X, Y, Hs=HIDDEN_SIZES, C=2, learning_rate=.1, regularizer=.001, gradient_checking=False, inspect=True)\n",
    "\n",
    "def states(iters):\n",
    "    for _ in range(iters):\n",
    "        nn.learn()\n",
    "        yield nn.info\n",
    "        \n",
    "states = list(states(EPOCHS))"
   ]
  },
  {
   "cell_type": "markdown",
   "metadata": {},
   "source": [
    "### Visualize\n",
    "\n",
    "Notice the plots are linear because of the following recurrence relation:\n",
    "\n",
    "$$v_t = x_{t+1} - x_t$$\n",
    "\n",
    "This formula follows by definition of $x_t$:\n",
    "\n",
    "$$x_t = x_{t-1} + v_{t-1}$$\n",
    "\n",
    "Intuitively, as the difference between $x$ points gets smaller, the difference between $y$ points get smaller **by the same amount**"
   ]
  },
  {
   "cell_type": "code",
   "execution_count": null,
   "metadata": {
    "collapsed": false,
    "scrolled": false
   },
   "outputs": [],
   "source": [
    "from ipywidgets import interact, fixed\n",
    "\n",
    "@interact(X=fixed(X), Y=fixed(Y), view_index=(0, len(states)-1), states=fixed(states))\n",
    "def plot(X, Y, view_index, states):\n",
    "    \"\"\"View decision boundary over time\n",
    "    \n",
    "    We have the state of the model (i.e. its parameters) after every time step.\n",
    "    We want to see how the model learns over time. Hence create a one-off instance\n",
    "    of a softmax with its old parameters and ask it to make a bunch of predictions!\n",
    "    \"\"\"\n",
    "    s = states[view_index]\n",
    "    nn = NeuralNetwork(X, Y, Hs=HIDDEN_SIZES, C=2, params=s.params)\n",
    "    \n",
    "    # Plotting\n",
    "    colormap = np.array(['r', 'b'])\n",
    "\n",
    "    # Plot the gold standard in a plot right next to it\n",
    "    axes = df.plot(kind='scatter', x='pos_avg', y='shot_number', c=colormap[df['label']], title='Ground Truth', s=0)\n",
    "    axes.quiver(df['pos_avg'], df['shot_number'], df['vel_avg'], np.zeros_like(df['vel_avg']), color=colormap[df['label']], scale_units='xy', angles='xy', scale=2.5, width=.0022)\n",
    "\n",
    "    # Predictions\n",
    "    df['predictions'] = nn.predict(X)\n",
    "    axes = df.plot(kind='scatter', x='pos_avg', y='shot_number', c=colormap[df['predictions']], title='Predictions', s=0)\n",
    "    axes.quiver(df['pos_avg'], df['shot_number'], df['vel_avg'], np.zeros_like(df['vel_avg']), color=colormap[df['predictions']], scale_units='xy', angles='xy', scale=2.5, width=.0022)\n",
    "\n",
    "    # Misclassified examples\n",
    "    df['correct'] = df['label'] == df['predictions']\n",
    "    axes = df.plot(kind='scatter', x='pos_avg', y='shot_number', c=colormap[df['correct']], title='Missclassified', s=0)\n",
    "    axes.quiver(df['pos_avg'], df['shot_number'], df['vel_avg'], np.zeros_like(df['vel_avg']), color=colormap[df['correct']], scale_units='xy', angles='xy', scale=2.5, width=.0022)"
   ]
  },
  {
   "cell_type": "markdown",
   "metadata": {},
   "source": [
    "### Plot Losses"
   ]
  },
  {
   "cell_type": "code",
   "execution_count": null,
   "metadata": {
    "collapsed": false,
    "scrolled": true
   },
   "outputs": [],
   "source": [
    "def loss_averages():\n",
    "    for state in states:\n",
    "        yield state.gradients['loss'].mean()\n",
    "        \n",
    "loss_avgs = list(loss_averages())\n",
    "\n",
    "pd.DataFrame(loss_avgs, columns=['loss']).plot()"
   ]
  },
  {
   "cell_type": "code",
   "execution_count": null,
   "metadata": {
    "collapsed": false
   },
   "outputs": [],
   "source": [
    "df['correct'].sum() / len(df)"
   ]
  }
 ],
 "metadata": {
  "kernelspec": {
   "display_name": "Python 3",
   "language": "python",
   "name": "python3"
  },
  "language_info": {
   "codemirror_mode": {
    "name": "ipython",
    "version": 3
   },
   "file_extension": ".py",
   "mimetype": "text/x-python",
   "name": "python",
   "nbconvert_exporter": "python",
   "pygments_lexer": "ipython3",
   "version": "3.5.0"
  }
 },
 "nbformat": 4,
 "nbformat_minor": 0
}
