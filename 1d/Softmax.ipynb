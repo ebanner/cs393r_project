{
 "cells": [
  {
   "cell_type": "markdown",
   "metadata": {},
   "source": [
    "# Softmax\n",
    "\n",
    "Simple 1D softmax classifier model with cross-entropy loss. Includes support for:\n",
    "\n",
    "- Training on minibatches of training examples at a time\n",
    "- Finite difference gradient checking\n",
    "- L2 Regularization"
   ]
  },
  {
   "cell_type": "code",
   "execution_count": 1,
   "metadata": {
    "collapsed": true
   },
   "outputs": [],
   "source": [
    "from collections import namedtuple\n",
    "\n",
    "Model = namedtuple('Model', ['ws', 'bs', 'dws', 'dbs', 'loss'])\n",
    "State = namedtuple('State', ['loss', 'dws', 'dbs'])"
   ]
  },
  {
   "cell_type": "code",
   "execution_count": 2,
   "metadata": {
    "collapsed": true
   },
   "outputs": [],
   "source": [
    "def softmax(scores):\n",
    "    \"\"\"Compute the softmax between two numbers\n",
    "    \n",
    "    s1 is the number we're finding the softmax of\n",
    "    \n",
    "    \"\"\"\n",
    "    e_x = np.exp(scores)\n",
    "    \n",
    "    return e_x / e_x.sum()"
   ]
  },
  {
   "cell_type": "code",
   "execution_count": 3,
   "metadata": {
    "collapsed": false
   },
   "outputs": [],
   "source": [
    "class Softmax:\n",
    "    \"\"\"Initialize model parameters\n",
    "    \n",
    "    Additionally calculate batch index so we can use minibatches with each training iteration\n",
    "    \n",
    "    \"\"\"\n",
    "    def __init__(self, xs_train=1, ys_train=1, ws=None, bs=None, learning_rate=0.001, regularizer=1., batch_size=None):\n",
    "        self.m = len(xs_train)\n",
    "        \n",
    "        self.xs_train, self.ys_train = xs_train, ys_train\n",
    "        self.ws, self.bs = np.array([50.,65.]), np.array([100.,150.])\n",
    "        \n",
    "        self.learning_rate = learning_rate\n",
    "        self.regularizer = regularizer\n",
    "        \n",
    "        self.batch_size = self.m if not batch_size else batch_size\n",
    "        self.batch_index = 0\n",
    "        \n",
    "    def forward_backward_prop(self, ws=None, bs=None):\n",
    "        \"\"\"Perform forward and backward prop over a minibatch of training examples\n",
    "        \n",
    "        Returns loss and gradients\n",
    "        \n",
    "        \"\"\"\n",
    "        ws = self.ws if not type(ws) == np.ndarray else ws\n",
    "        bs = self.bs if not type(bs) == np.ndarray else bs\n",
    "        \n",
    "        loss, dws, dbs = 0., np.array([0.,0.]), np.array([0.,0.])\n",
    "        lower, upper = self.batch_index*self.batch_size, (self.batch_index+1)*self.batch_size\n",
    "        for x, y in zip(self.xs_train[lower:upper], self.ys_train[lower:upper]):\n",
    "            # Forward propagation\n",
    "            scores = np.array([x,x])*ws + bs\n",
    "            probs = softmax(scores)\n",
    "\n",
    "            # Accumulate performance loss and regularization loss\n",
    "            loss += -np.log(probs[y])\n",
    "            loss += self.regularizer * (0.5*(ws**2).sum() + 0.5*(bs**2).sum())\n",
    "\n",
    "            # Backpropagate to accumulate dbs and dws\n",
    "            dloss = 1\n",
    "            dscores = probs\n",
    "            dscores[y] -= 1\n",
    "            dbs += dscores\n",
    "            dws += x * dscores\n",
    "            \n",
    "            # Add regularization factor\n",
    "            dws += self.regularizer*ws\n",
    "            dbs += self.regularizer*bs\n",
    "        \n",
    "        return State(loss/self.m, dws/self.m, dbs/self.m)\n",
    "    \n",
    "    def step(self):\n",
    "        \"\"\"Run one iteration of gradient descent with a minibatch of training examples\"\"\"\n",
    "        \n",
    "        loss, dws, dbs = self.forward_backward_prop()\n",
    "        \n",
    "        self.ws = self.ws - self.learning_rate*dws\n",
    "        self.bs = self.bs - self.learning_rate*dbs\n",
    "        \n",
    "        # Update batch index so the next time the next batch in line is used\n",
    "        self.batch_index = (self.batch_index+1) % (self.m//self.batch_size)\n",
    "                \n",
    "        return Model(self.ws, self.bs, dws, dbs, loss)"
   ]
  },
  {
   "cell_type": "markdown",
   "metadata": {},
   "source": [
    "## Run it!"
   ]
  },
  {
   "cell_type": "code",
   "execution_count": 4,
   "metadata": {
    "collapsed": false
   },
   "outputs": [],
   "source": [
    "from data.softmax import xs_train, ys_train\n",
    "\n",
    "sm = Softmax(xs_train, ys_train, learning_rate=0.01, regularizer=0, batch_size=2)\n",
    "\n",
    "def estimates(iters):\n",
    "    for _ in range(iters):\n",
    "        yield sm.step()\n",
    "        \n",
    "estimates = list(estimates(5000))\n",
    "\n",
    "Params = namedtuple('Params', ['w1', 'w2', 'b1', 'b2', 'dw1', 'dw2', 'db1', 'db2', 'loss'])\n",
    "\n",
    "def explode():\n",
    "    for e in estimates:\n",
    "        yield Params(e.ws[0], e.ws[1], e.bs[0], e.bs[1], e.dws[0], e.dws[1], e.dbs[0], e.dbs[1], e.loss)\n",
    "        \n",
    "estimates = list(explode())"
   ]
  },
  {
   "cell_type": "markdown",
   "metadata": {},
   "source": [
    "## Plot the Weights!"
   ]
  },
  {
   "cell_type": "code",
   "execution_count": 9,
   "metadata": {
    "collapsed": false,
    "scrolled": true
   },
   "outputs": [
    {
     "data": {
      "image/png": "[encoded data removed]",
      "text/plain": [
       "<matplotlib.figure.Figure at 0x7fbafab87cc0>"
      ]
     },
     "metadata": {},
     "output_type": "display_data"
    }
   ],
   "source": [
    "df = pd.DataFrame(estimates, columns=Params._fields)\n",
    "\n",
    "axes = df[['w1', 'w2', 'b1', 'b2', 'loss']].plot()\n",
    "axes.xaxis.grid(b=True)\n",
    "axes.yaxis.grid(b=True)"
   ]
  },
  {
   "cell_type": "markdown",
   "metadata": {},
   "source": [
    "## Plot the Gradients!"
   ]
  },
  {
   "cell_type": "code",
   "execution_count": 10,
   "metadata": {
    "collapsed": false
   },
   "outputs": [
    {
     "data": {
      "image/png": "[encoded data removed]",
      "text/plain": [
       "<matplotlib.figure.Figure at 0x7fbafabddba8>"
      ]
     },
     "metadata": {},
     "output_type": "display_data"
    }
   ],
   "source": [
    "axes = df[['dw1', 'dw2', 'db1', 'db2', 'loss']].plot()\n",
    "axes.xaxis.grid(b=True)\n",
    "axes.yaxis.grid(b=True)"
   ]
  },
  {
   "cell_type": "markdown",
   "metadata": {},
   "source": [
    "## How Does the Model Evolve Over Time?"
   ]
  },
  {
   "cell_type": "code",
   "execution_count": 17,
   "metadata": {
    "collapsed": false,
    "scrolled": true
   },
   "outputs": [
    {
     "data": {
      "image/png": "[encoded data removed]",
      "text/plain": [
       "<matplotlib.figure.Figure at 0x7f6bbc9d9da0>"
      ]
     },
     "metadata": {},
     "output_type": "display_data"
    }
   ],
   "source": [
    "from ipywidgets import interact, fixed\n",
    "\n",
    "@interact(xs_train=fixed(xs_train), ys_train=fixed(ys_train), view_index=(0, len(estimates)), estimates=fixed(estimates))\n",
    "def plot(xs_train, ys_train, view_index, estimates):\n",
    "    ws, bs, _, _, _ = estimates[view_index]\n",
    "    \n",
    "    # Get data into suitable form for plotting\n",
    "    positives, negatives = xs_train[:len(xs_train)//2], xs_train[len(xs_train)//2:]\n",
    "    df1 = pd.DataFrame({'positives': positives, 'negatives': negatives, 'zeros': np.zeros_like(positives)})\n",
    "    \n",
    "    # Solve for the decision boundary\n",
    "    decision = (bs[1]-bs[0]) / (ws[0]-ws[1])\n",
    "    \n",
    "    ys = np.linspace(-.001,.001)\n",
    "    df2 = pd.DataFrame({'x': [decision], 'y': [0]})\n",
    "    \n",
    "    axes = df2.plot(kind='scatter', x='x', y='y', color='g', marker='|', s=10000)\n",
    "    axes = df1.plot(ax=axes, kind='scatter', x='positives', y='zeros', color='r', marker='+')\n",
    "    df1.plot(ax=axes, kind='scatter', x='negatives', y='zeros', color='b', marker='+')"
   ]
  },
  {
   "cell_type": "markdown",
   "metadata": {},
   "source": [
    "## Finite Difference Gradient Check"
   ]
  },
  {
   "cell_type": "code",
   "execution_count": 6,
   "metadata": {
    "collapsed": true
   },
   "outputs": [],
   "source": [
    "def numerical_gradients(f, ws, bs):\n",
    "    \"\"\"Compute numerical gradients of f with respect to w and b\n",
    "    \n",
    "    Returns approximation for df/dw and df/db\n",
    "    \n",
    "    \"\"\"\n",
    "    dws, dbs = np.zeros_like(ws), np.zeros_like(bs)\n",
    "    h = np.zeros_like(ws)\n",
    "    step = 0.00001\n",
    "    \n",
    "    # df/dw1 and df/db1\n",
    "    h[0] = step\n",
    "    dws[0] = (f(ws+h, bs)  -f(ws-h, bs))   / (2*step)\n",
    "    dbs[0] = (f(ws,   bs+h)-f(ws,   bs-h)) / (2*step)\n",
    "    h[0] = 0\n",
    "    \n",
    "    # df/dw1 and df/db1\n",
    "    h[1] = step\n",
    "    dws[1] = (f(ws+h, bs)  -f(ws-h, bs))   / (2*step)\n",
    "    dbs[1] = (f(ws,   bs+h)-f(ws,   bs-h)) / (2*step)\n",
    "    h[1] = 0\n",
    "    \n",
    "    return dws, dbs"
   ]
  },
  {
   "cell_type": "markdown",
   "metadata": {},
   "source": [
    "## Run Through a Few Iterations and Assert Analytic and Numerical Gradients are Close"
   ]
  },
  {
   "cell_type": "code",
   "execution_count": 7,
   "metadata": {
    "collapsed": false
   },
   "outputs": [
    {
     "name": "stdout",
     "output_type": "stream",
     "text": [
      "Gradient check passed!\n"
     ]
    }
   ],
   "source": [
    "sm = Softmax(xs_train, ys_train)\n",
    "\n",
    "for _ in range(10):\n",
    "    # Analytic gradient computed via backprop\n",
    "    _, analytic_dws, analytic_dbs = sm.forward_backward_prop()\n",
    "    \n",
    "    # Numerical gradient compute via twiddling w and b and inspecting loss\n",
    "    numerical_dws, numerical_dbs = numerical_gradients(lambda ws, bs: sm.forward_backward_prop(ws, bs).loss, sm.ws, sm.bs)\n",
    "    \n",
    "    # Compute relative error\n",
    "    dws_error = abs(numerical_dws - analytic_dws) / (abs(numerical_dws) + abs(analytic_dws))\n",
    "    dbs_error = abs(numerical_dbs - analytic_dbs) / (abs(numerical_dbs) + abs(analytic_dbs))\n",
    "    \n",
    "    try:\n",
    "        assert(np.linalg.norm(dws_error) < 1e-6 and np.linalg.norm(dbs_error) < 1e-6)\n",
    "    except AssertionError:\n",
    "        warn(dws_error)\n",
    "        warn(dbs_error)\n",
    "        \n",
    "else:\n",
    "    print('Gradient check passed!')"
   ]
  }
 ],
 "metadata": {
  "kernelspec": {
   "display_name": "Python 3",
   "language": "python",
   "name": "python3"
  },
  "language_info": {
   "codemirror_mode": {
    "name": "ipython",
    "version": 3
   },
   "file_extension": ".py",
   "mimetype": "text/x-python",
   "name": "python",
   "nbconvert_exporter": "python",
   "pygments_lexer": "ipython3",
   "version": "3.5.0"
  }
 },
 "nbformat": 4,
 "nbformat_minor": 0
}
