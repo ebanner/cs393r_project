{
 "cells": [
  {
   "cell_type": "markdown",
   "metadata": {},
   "source": [
    "# Linear Regression\n",
    "\n",
    "Simple 1D linear regression model. Includes support for:\n",
    "\n",
    "- Training on minibatches of training examples at a time\n",
    "- Finite difference gradient checking"
   ]
  },
  {
   "cell_type": "code",
   "execution_count": 1,
   "metadata": {
    "collapsed": true
   },
   "outputs": [],
   "source": [
    "from collections import namedtuple\n",
    "\n",
    "Model = namedtuple('Model', ['w', 'b', 'dw', 'db', 'loss'])\n",
    "State = namedtuple('State', ['loss', 'dw', 'db'])"
   ]
  },
  {
   "cell_type": "code",
   "execution_count": 2,
   "metadata": {
    "collapsed": false
   },
   "outputs": [],
   "source": [
    "class LinearRegression:\n",
    "    \"\"\"Initialize model parameters\n",
    "    \n",
    "    Additionally calculate batch index so we can use minibatches with each training iteration\n",
    "    \n",
    "    \"\"\"\n",
    "    def __init__(self, xs_train=1, ys_train=1, w=0, b=0, learning_rate=0.001, batch_size=None):\n",
    "        self.m = len(xs_train)\n",
    "        self.xs_train, self.ys_train = xs_train, ys_train\n",
    "        self.w, self.b = w, b\n",
    "        self.learning_rate = learning_rate\n",
    "        \n",
    "        self.batch_size = self.m if not batch_size else batch_size\n",
    "        self.batch_index = 0\n",
    "        \n",
    "    def forward_backward_prop(self, w=None, b=None):\n",
    "        \"\"\"Perform forward and backward prop over a minibatch of training examples\n",
    "        \n",
    "        Returns loss and gradients\n",
    "        \n",
    "        \"\"\"\n",
    "        w = self.w if not w else w\n",
    "        b = self.b if not b else b\n",
    "        \n",
    "        loss = dw = db = 0\n",
    "        lower, upper = self.batch_index*self.batch_size, (self.batch_index+1)*self.batch_size\n",
    "        for x, y in zip(self.xs_train[lower:upper], self.ys_train[lower:upper]):\n",
    "            # Forward Pass\n",
    "            y_hat = w*x + b\n",
    "\n",
    "            # Accumulate loss\n",
    "            loss += 0.5 * (y_hat-y)**2\n",
    "\n",
    "            # Backpropagate to accumulate dw and db\n",
    "            dloss = 1\n",
    "            dy_hat = (y_hat-y) * dloss\n",
    "            db += dy_hat\n",
    "            dw += x * dy_hat\n",
    "        \n",
    "        return State(loss/self.m, dw/self.m, db/self.m)\n",
    "    \n",
    "    def step(self):\n",
    "        \"\"\"Run one iteration of gradient descent with a minibatch of training examples\"\"\"\n",
    "        \n",
    "        loss, dw, db = self.forward_backward_prop()\n",
    "        \n",
    "        self.w -= self.learning_rate*dw\n",
    "        self.b -= self.learning_rate*db\n",
    "        \n",
    "        # Update batch index so the next time the next batch in line is used\n",
    "        self.batch_index = (self.batch_index+1) % (self.m//self.batch_size)\n",
    "                \n",
    "        return Model(self.w, self.b, dw, db, loss)"
   ]
  },
  {
   "cell_type": "markdown",
   "metadata": {},
   "source": [
    "## Create Synthetic Data"
   ]
  },
  {
   "cell_type": "code",
   "execution_count": 3,
   "metadata": {
    "collapsed": false
   },
   "outputs": [
    {
     "data": {
      "text/plain": [
       "<matplotlib.axes._subplots.AxesSubplot at 0x7f745faeeac8>"
      ]
     },
     "execution_count": 3,
     "metadata": {},
     "output_type": "execute_result"
    },
    {
     "name": "stderr",
     "output_type": "stream",
     "text": [
      "/home/ebanner/.anaconda/envs/py35/lib/python3.5/site-packages/matplotlib/collections.py:590: FutureWarning: elementwise comparison failed; returning scalar instead, but in the future will perform elementwise comparison\n",
      "  if self._edgecolors == str('face'):\n"
     ]
    },
    {
     "data": {
      "image/png": "[encoded data removed]",
      "text/plain": [
       "<matplotlib.figure.Figure at 0x7f745faee240>"
      ]
     },
     "metadata": {},
     "output_type": "display_data"
    }
   ],
   "source": [
    "m = 50\n",
    "\n",
    "xs_train = np.linspace(5, 30, num=m)\n",
    "w_true, b = np.array([3.0]), 50\n",
    "\n",
    "# Compute ys\n",
    "noise_level = 10\n",
    "ys_train = w_true[0]*xs_train + b\n",
    "ys_train = np.array([y + np.random.randn()*noise_level for y in ys_train])\n",
    "\n",
    "pd.DataFrame({'x': xs_train, 'y': ys_train}).plot(kind='scatter', x='x', y='y')"
   ]
  },
  {
   "cell_type": "markdown",
   "metadata": {},
   "source": [
    "## How Does the Model Evolve Over Time?"
   ]
  },
  {
   "cell_type": "code",
   "execution_count": 4,
   "metadata": {
    "collapsed": false
   },
   "outputs": [
    {
     "name": "stderr",
     "output_type": "stream",
     "text": [
      "/home/ebanner/.anaconda/envs/py35/lib/python3.5/site-packages/matplotlib/collections.py:590: FutureWarning: elementwise comparison failed; returning scalar instead, but in the future will perform elementwise comparison\n",
      "  if self._edgecolors == str('face'):\n"
     ]
    },
    {
     "data": {
      "image/png": "[encoded data removed]",
      "text/plain": [
       "<matplotlib.figure.Figure at 0x7f745d2a2a58>"
      ]
     },
     "metadata": {},
     "output_type": "display_data"
    }
   ],
   "source": [
    "from ipywidgets import interact, fixed\n",
    "\n",
    "lr = LinearRegression(xs_train, ys_train, batch_size=10)\n",
    "def estimates(iters):\n",
    "    for _ in range(iters):\n",
    "        yield lr.step()\n",
    "    \n",
    "estimates = list(estimates(150000))\n",
    "\n",
    "@interact(xs_train=fixed(xs_train), ys_train=fixed(ys_train), view_index=(0, len(estimates)), estimates=fixed(estimates))\n",
    "def plot(xs_train, ys_train, view_index, estimates):\n",
    "    w, b, _, _, _ = estimates[view_index]\n",
    "    \n",
    "    xs = np.linspace(0, 50)\n",
    "    \n",
    "    # Get data into suitable form for plotting\n",
    "    df1 = pd.DataFrame({'x': xs_train, 'noisy_y': ys_train})\n",
    "    df2 = pd.DataFrame({'x': xs, 'estimate': w*xs + b})\n",
    "    \n",
    "    # Plot\n",
    "    axes = df1.plot(kind='scatter', x='x', y='noisy_y')\n",
    "    axes = df2.plot(ax=axes, x='x', y='estimate')\n",
    "    \n",
    "    axes.set_ylim(0,max(ys_train)+50)\n",
    "    axes.set_xlim(0,max(xs_train)+5)"
   ]
  },
  {
   "cell_type": "markdown",
   "metadata": {},
   "source": [
    "## Finite Difference Gradient Check"
   ]
  },
  {
   "cell_type": "code",
   "execution_count": 5,
   "metadata": {
    "collapsed": true
   },
   "outputs": [],
   "source": [
    "def numerical_gradients(f, w, b):\n",
    "    \"\"\"Compute numerical gradients of f with respect to w and b\n",
    "    \n",
    "    Returns approximation for df/dw and df/db\n",
    "    \n",
    "    \"\"\"\n",
    "    h = 0.00001\n",
    "    \n",
    "    dw = (f(w+h, b)-f(w-h, b)) / (2*h)\n",
    "    db = (f(w, b+h)-f(w, b-h)) / (2*h)\n",
    "    \n",
    "    return dw, db "
   ]
  },
  {
   "cell_type": "markdown",
   "metadata": {},
   "source": [
    "## Run Through a Few Iterations and Assert Analytic and Numerical Gradients are Close"
   ]
  },
  {
   "cell_type": "code",
   "execution_count": 6,
   "metadata": {
    "collapsed": false
   },
   "outputs": [
    {
     "name": "stdout",
     "output_type": "stream",
     "text": [
      "Gradient check passed!\n"
     ]
    }
   ],
   "source": [
    "lr = LinearRegression(xs_train, ys_train)\n",
    "\n",
    "for _ in range(10):\n",
    "    # Analytic gradient computed via backprop\n",
    "    _, analytic_dw, analytic_db = lr.forward_backward_prop()\n",
    "    \n",
    "    # Numerical gradient compute via twiddling w and b and inspecting loss\n",
    "    numerical_dw, numerical_db = numerical_gradients(lambda w, b: lr.forward_backward_prop(w, b).loss, lr.w, lr.b)\n",
    "    \n",
    "    # Compute relative error\n",
    "    dw_error = abs(numerical_dw - analytic_dw) / (abs(numerical_dw) + abs(analytic_dw))\n",
    "    db_error = abs(numerical_db - analytic_db) / (abs(numerical_db) + abs(analytic_db))\n",
    "    \n",
    "    try:\n",
    "        assert(dw_error < 1e-6 and db_error < 1e-6)\n",
    "    except AssertionError:\n",
    "        warn(dw_error)\n",
    "        warn(db_error)\n",
    "        \n",
    "else:\n",
    "    print('Gradient check passed!')"
   ]
  }
 ],
 "metadata": {
  "kernelspec": {
   "display_name": "Python 3",
   "language": "python",
   "name": "python3"
  },
  "language_info": {
   "codemirror_mode": {
    "name": "ipython",
    "version": 3
   },
   "file_extension": ".py",
   "mimetype": "text/x-python",
   "name": "python",
   "nbconvert_exporter": "python",
   "pygments_lexer": "ipython3",
   "version": "3.5.0"
  }
 },
 "nbformat": 4,
 "nbformat_minor": 0
}
