{
 "cells": [
  {
   "cell_type": "markdown",
   "metadata": {},
   "source": [
    "# Linear Regression\n",
    "\n",
    "Simple 1D linear regression"
   ]
  },
  {
   "cell_type": "code",
   "execution_count": 42,
   "metadata": {
    "collapsed": false
   },
   "outputs": [],
   "source": [
    "from collections import namedtuple\n",
    "\n",
    "Model = namedtuple('Model', ['w', 'b', 'dw', 'db', 'loss'])\n",
    "\n",
    "class LinearRegression:\n",
    "    def __init__(self, xs_train=1, ys_train=1, w=0, b=0, learning_rate=0.001, batch_size=None):\n",
    "        self.m = len(xs_train)\n",
    "        self.xs_train, self.ys_train = xs_train, ys_train\n",
    "        self.w, self.b = w, b\n",
    "        self.learning_rate = learning_rate\n",
    "        \n",
    "        self.batch_size = self.m if not batch_size else batch_size\n",
    "        self.batch_index = 0 # The index into the training data of the next batch\n",
    "        \n",
    "    def forward_backward_prop(self):\n",
    "        \"\"\"Perform forward and backward prop over a minibatch\n",
    "        \n",
    "        Returns loss and gradients\n",
    "        \n",
    "        \"\"\"\n",
    "        loss = dw = db = 0\n",
    "        lower, upper = self.batch_index*self.batch_size, (self.batch_index+1)*self.batch_size\n",
    "        for x, y in zip(self.xs_train[lower:upper], self.ys_train[lower:upper]):\n",
    "            # Forward Pass (predictions)\n",
    "            y_hat = self.w*x + self.b\n",
    "\n",
    "            # Accumulate loss\n",
    "            loss += 0.5 * (y_hat-y)**2\n",
    "\n",
    "            # Backpropagate to accumulate dw and db\n",
    "            dloss = 1\n",
    "            dy_hat = (y_hat-y) * dloss\n",
    "            db += dy_hat\n",
    "            dw += x * dy_hat\n",
    "        \n",
    "        return loss/self.m, dw/self.m, db/self.m\n",
    "    \n",
    "    def step(self):\n",
    "        \"\"\"Run one iteration of gradient descent with a minibatch\"\"\"\n",
    "        \n",
    "        loss, dw, db = self.forward_backward_prop()\n",
    "        \n",
    "        self.w -= self.learning_rate*dw\n",
    "        self.b -= self.learning_rate*db\n",
    "        \n",
    "        # Update batch index so the next time step is called the next batch is used\n",
    "        a = self.batch_index+1\n",
    "        b = self.m//self.batch_size\n",
    "        self.batch_index = (self.batch_index+1) % (self.m//self.batch_size)\n",
    "                \n",
    "        return Model(self.w, self.b, dw, db, loss)"
   ]
  },
  {
   "cell_type": "markdown",
   "metadata": {},
   "source": [
    "## Create Synthetic Data"
   ]
  },
  {
   "cell_type": "code",
   "execution_count": 17,
   "metadata": {
    "collapsed": false
   },
   "outputs": [
    {
     "data": {
      "text/plain": [
       "<matplotlib.axes._subplots.AxesSubplot at 0x7f5e01658048>"
      ]
     },
     "execution_count": 17,
     "metadata": {},
     "output_type": "execute_result"
    },
    {
     "name": "stderr",
     "output_type": "stream",
     "text": [
      "/home/ebanner/.anaconda/envs/py35/lib/python3.5/site-packages/matplotlib/collections.py:590: FutureWarning: elementwise comparison failed; returning scalar instead, but in the future will perform elementwise comparison\n",
      "  if self._edgecolors == str('face'):\n"
     ]
    },
    {
     "data": {
      "image/png": "[encoded data removed]",
      "text/plain": [
       "<matplotlib.figure.Figure at 0x7f5e01656940>"
      ]
     },
     "metadata": {},
     "output_type": "display_data"
    }
   ],
   "source": [
    "m = 50\n",
    "\n",
    "xs_train = np.linspace(5, 30, num=m)\n",
    "w_true, b = np.array([3.0]), 50\n",
    "\n",
    "# Compute ys\n",
    "noise_level = 10\n",
    "ys_train = w_true[0]*xs_train + b\n",
    "ys_train = np.array([y + np.random.randn()*noise_level for y in ys_train])\n",
    "\n",
    "pd.DataFrame({'x': xs_train, 'y': ys_train}).plot(kind='scatter', x='x', y='y')"
   ]
  },
  {
   "cell_type": "markdown",
   "metadata": {},
   "source": [
    "## Visualize the Model"
   ]
  },
  {
   "cell_type": "code",
   "execution_count": 46,
   "metadata": {
    "collapsed": false
   },
   "outputs": [
    {
     "data": {
      "image/png": "[encoded data removed]",
      "text/plain": [
       "<matplotlib.figure.Figure at 0x7f5e01db05f8>"
      ]
     },
     "metadata": {},
     "output_type": "display_data"
    }
   ],
   "source": [
    "from ipywidgets import interact, fixed\n",
    "\n",
    "lr = LinearRegression(xs_train, ys_train, batch_size=10)\n",
    "def estimates(iters):\n",
    "    for _ in range(iters):\n",
    "        yield lr.step()\n",
    "    \n",
    "estimates = list(estimates(150000))\n",
    "\n",
    "@interact(xs_train=fixed(xs_train), ys_train=fixed(ys_train), view_index=(0, len(estimates)), estimates=fixed(estimates))\n",
    "def plot(xs_train, ys_train, view_index, estimates):\n",
    "    w, b, _, _, _ = estimates[view_index]\n",
    "    \n",
    "    xs = np.linspace(0, 50)\n",
    "    \n",
    "    # Get data into suitable form for plotting\n",
    "    df1 = pd.DataFrame({'x': xs_train, 'noisy_y': ys_train})\n",
    "    df2 = pd.DataFrame({'x': xs, 'estimate': w*xs + b})\n",
    "    \n",
    "    # Plot\n",
    "    axes = df1.plot(kind='scatter', x='x', y='noisy_y')\n",
    "    axes = df2.plot(ax=axes, x='x', y='estimate')\n",
    "    \n",
    "    axes.set_ylim(0,max(ys_train)+50)\n",
    "    axes.set_xlim(0,max(xs_train)+5)"
   ]
  },
  {
   "cell_type": "markdown",
   "metadata": {},
   "source": [
    "## Finite Difference Gradient Check"
   ]
  },
  {
   "cell_type": "code",
   "execution_count": 46,
   "metadata": {
    "collapsed": false,
    "scrolled": true
   },
   "outputs": [],
   "source": [
    "def num_grads():\n",
    "    \"\"\"Generate a list of numerical gradients of each w in ws\"\"\"\n",
    "    \n",
    "    delta_w = 0.0001\n",
    "    \n",
    "    for w in ws:\n",
    "        fwmdw = -0.5 * (100 - (w-delta_w)*x)**2\n",
    "        fwpdw = -0.5 * (100 - (w+delta_w)*x)**2\n",
    "        \n",
    "        yield (fwpdw-fwmdw) / (2*delta_w)\n",
    "        \n",
    "num_grads = np.array(list(num_grads()))"
   ]
  },
  {
   "cell_type": "code",
   "execution_count": 53,
   "metadata": {
    "collapsed": false
   },
   "outputs": [],
   "source": [
    "def analytic_grads():\n",
    "    \"\"\"Return the analytic gradient for each w in ws\"\"\"\n",
    "    \n",
    "    for w in ws:\n",
    "        yield next(lin_reg(x=x, w=w, y_true=100)).dw\n",
    "        \n",
    "analytic_grads = np.array(list(analytic_grads()))"
   ]
  },
  {
   "cell_type": "markdown",
   "metadata": {},
   "source": [
    "## Gradient Comparisons"
   ]
  },
  {
   "cell_type": "code",
   "execution_count": 57,
   "metadata": {
    "collapsed": false
   },
   "outputs": [
    {
     "data": {
      "text/plain": [
       "0   -1.414009e-09\n",
       "dtype: float64"
      ]
     },
     "execution_count": 57,
     "metadata": {},
     "output_type": "execute_result"
    }
   ],
   "source": [
    "pd.DataFrame(num_grads - analytic_grads, index=ws).mean()"
   ]
  }
 ],
 "metadata": {
  "kernelspec": {
   "display_name": "Python 3",
   "language": "python",
   "name": "python3"
  },
  "language_info": {
   "codemirror_mode": {
    "name": "ipython",
    "version": 3
   },
   "file_extension": ".py",
   "mimetype": "text/x-python",
   "name": "python",
   "nbconvert_exporter": "python",
   "pygments_lexer": "ipython3",
   "version": "3.5.0"
  }
 },
 "nbformat": 4,
 "nbformat_minor": 0
}
